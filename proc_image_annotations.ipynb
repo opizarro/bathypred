{
 "cells": [
  {
   "cell_type": "code",
   "execution_count": 1,
   "metadata": {
    "collapsed": false
   },
   "outputs": [],
   "source": [
    "%matplotlib inline\n",
    "import pandas as pd\n",
    "import sklearn.cluster\n",
    "import matplotlib.pyplot as plt"
   ]
  },
  {
   "cell_type": "code",
   "execution_count": 2,
   "metadata": {
    "collapsed": true
   },
   "outputs": [],
   "source": [
    "# get scoring results for georeferenced images\n",
    "annotation = '/Users/opizarro/data/FK20180119/MAI_video_class.xlsx'\n",
    "dframe = pd.read_excel(annotation)"
   ]
  },
  {
   "cell_type": "code",
   "execution_count": 3,
   "metadata": {
    "collapsed": false
   },
   "outputs": [
    {
     "name": "stdout",
     "output_type": "stream",
     "text": [
      "Index([u'ID', u'Type', u'PV', u'VidScheme', u'Island', u'Cruise', u'Record', u'Tow_ID', u'Date_UTC', u'Time_UTC', u'Lat', u'Lon', u'Distance', u'Adj_Depth', u'DepthBin', u'Image', u'Image_Timestamp'], dtype='object')\n",
      "[[  0   0  80 ...,   0   0 100]\n",
      " [  0   0 100 ...,   0   0 100]\n",
      " [  0   0 100 ...,   0   0 100]\n",
      " ..., \n",
      " [  0   0 100 ...,   0   0 100]\n",
      " [  0   0 100 ...,   0   0 100]\n",
      " [  0   0 100 ...,   0   0 100]]\n",
      "[1 0 5 ..., 1 1 1]\n"
     ]
    }
   ],
   "source": [
    "dframe.head()\n",
    "# for the video xlsx file column 17 on have scores from annotations\n",
    "# but the first set are codes / categorical rather than numbers\n",
    "# could be turned into N-bit per columns\n",
    "print(dframe.columns[:17])\n",
    "#imdescrip = dframe.as_matrix(columns=dframe.columns[17:])\n",
    "# columns 40 on are numberic\n",
    "imdescrip = dframe.as_matrix(columns=dframe.columns[40:])\n",
    "print(imdescrip)\n",
    "# Using sklearn\n",
    "km = sklearn.cluster.KMeans(n_clusters=10)\n",
    "km.fit(imdescrip)\n",
    "# Get cluster assignment labels\n",
    "labels = km.labels_\n",
    "print(labels)"
   ]
  },
  {
   "cell_type": "code",
   "execution_count": 4,
   "metadata": {
    "collapsed": false
   },
   "outputs": [
    {
     "name": "stdout",
     "output_type": "stream",
     "text": [
      "             Lat         Lon  clusterID\n",
      "0      20.834259 -156.696257          1\n",
      "1      20.839558 -156.778396          0\n",
      "2      20.834970 -156.695314          5\n",
      "3      20.834894 -156.695413          5\n",
      "4      20.834836 -156.695483          0\n",
      "5      20.834798 -156.695531          5\n",
      "6      20.834717 -156.695642          9\n",
      "7      20.834647 -156.695730          5\n",
      "8      20.834580 -156.695815          5\n",
      "9      20.834531 -156.695880          2\n",
      "10     20.834463 -156.695972          5\n",
      "11     20.834414 -156.696043          5\n",
      "12     20.835052 -156.695215          8\n",
      "13     20.834240 -156.696284          5\n",
      "14     20.835108 -156.695142          0\n",
      "15     20.834194 -156.696342          5\n",
      "16     20.834096 -156.696473          8\n",
      "17     20.834081 -156.696487          0\n",
      "18     20.834022 -156.696565          0\n",
      "19     20.833941 -156.696674          0\n",
      "20     20.833893 -156.696739          0\n",
      "21     20.833807 -156.696852          0\n",
      "22     20.833758 -156.696914          0\n",
      "23     20.833721 -156.696959          8\n",
      "24     20.833598 -156.697122          0\n",
      "25     20.833597 -156.697118          8\n",
      "26     20.833549 -156.697176          0\n",
      "27     20.834349 -156.696130          2\n",
      "28     20.854609 -156.763623          5\n",
      "29     20.853053 -156.766313          2\n",
      "...          ...         ...        ...\n",
      "22321  20.563330 -156.315852          1\n",
      "22322  20.563279 -156.316100          1\n",
      "22323  20.563229 -156.316333          0\n",
      "22324  20.563193 -156.316562          1\n",
      "22325  20.563128 -156.316865          1\n",
      "22326  20.563078 -156.317114          5\n",
      "22327  20.563044 -156.317331          1\n",
      "22328  20.563009 -156.317494          1\n",
      "22329  20.562961 -156.317714          1\n",
      "22330  20.562911 -156.317963          1\n",
      "22331  20.562878 -156.318181          1\n",
      "22332  20.562829 -156.318417          1\n",
      "22333  20.562796 -156.318634          1\n",
      "22334  20.570055 -156.319205          5\n",
      "22335  20.562179 -156.320750          1\n",
      "22336  20.560188 -156.309704          1\n",
      "22337  20.570038 -156.316555          1\n",
      "22338  20.570037 -156.316303          1\n",
      "22339  20.570138 -156.313804          1\n",
      "22340  20.570156 -156.313672          1\n",
      "22341  20.562714 -156.318887          1\n",
      "22342  20.562115 -156.321039          1\n",
      "22343  20.562648 -156.319105          1\n",
      "22344  20.562247 -156.320519          1\n",
      "22345  20.562297 -156.320287          1\n",
      "22346  20.562381 -156.320021          1\n",
      "22347  20.562448 -156.319806          1\n",
      "22348  20.562531 -156.319556          1\n",
      "22349  20.570036 -156.316902          1\n",
      "22350  20.562048 -156.321206          1\n",
      "\n",
      "[22351 rows x 3 columns]\n"
     ]
    }
   ],
   "source": [
    "# combine with geo info and save for reading on bathy pred code\n",
    "#cluster = []\n",
    "clusterID = pd.DataFrame(labels,columns=['clusterID'])\n",
    "cluster = pd.concat([dframe[['Lat','Lon']], clusterID], axis =1)\n",
    "print(cluster)\n",
    "\n"
   ]
  },
  {
   "cell_type": "code",
   "execution_count": 10,
   "metadata": {
    "collapsed": false
   },
   "outputs": [
    {
     "data": {
      "text/plain": [
       "<matplotlib.collections.PathCollection at 0x11318dc10>"
      ]
     },
     "execution_count": 10,
     "metadata": {},
     "output_type": "execute_result"
    }
   ],
   "source": [
    "# plot classes in space\n",
    "%matplotlib osx\n",
    "plt.figure(1)\n",
    "plt.scatter(cluster['Lon'],cluster['Lat'],c=cluster['clusterID'],s=1)"
   ]
  },
  {
   "cell_type": "code",
   "execution_count": 13,
   "metadata": {
    "collapsed": false
   },
   "outputs": [],
   "source": [
    "cluster.to_json(path_or_buf='/Users/opizarro/data/FK20180119/clusters_maui.json')"
   ]
  },
  {
   "cell_type": "code",
   "execution_count": null,
   "metadata": {
    "collapsed": true
   },
   "outputs": [],
   "source": []
  }
 ],
 "metadata": {
  "kernelspec": {
   "display_name": "Python 2",
   "language": "python",
   "name": "python2"
  },
  "language_info": {
   "codemirror_mode": {
    "name": "ipython",
    "version": 2
   },
   "file_extension": ".py",
   "mimetype": "text/x-python",
   "name": "python",
   "nbconvert_exporter": "python",
   "pygments_lexer": "ipython2",
   "version": "2.7.14"
  }
 },
 "nbformat": 4,
 "nbformat_minor": 0
}
