{
 "cells": [
  {
   "cell_type": "code",
   "execution_count": 1,
   "metadata": {},
   "outputs": [],
   "source": [
    "%matplotlib inline\n",
    "import pandas as pd\n",
    "import sklearn.cluster\n",
    "import matplotlib.pyplot as plt\n",
    "import numpy as np\n",
    "from osgeo import gdal\n",
    "#import gdal\n",
    "from affine import Affine\n",
    "import pyproj\n",
    "import sys\n",
    "import os\n",
    "from IPython import display\n",
    "%matplotlib inline\n",
    "\n",
    "sys.path.append(\"/Users/opizarro/git/bathypred\")\n",
    "import renavutils3 as rutil\n",
    "from image_prep import pack_images, pack_bpatches\n"
   ]
  },
  {
   "cell_type": "code",
   "execution_count": 2,
   "metadata": {},
   "outputs": [],
   "source": [
    "# stereo pose file\n",
    "pose_file = '/Volumes/Samsung_T3/PROCESSED_DATA/Tasmania200810/r20081007_224547_ohara_07_transect/renav20160205/stereo_pose_est.data'\n",
    "\n",
    "image_dir = '/Volumes/Samsung_T3/PROCESSED_DATA/Tasmania200810/r20081007_224547_ohara_07_transect/i20081007_224547_cv'\n",
    "\n",
    "#bathymetry\n",
    "bathy_all = '/Volumes/Samsung_T3/Tassie_bathy/Tasmania200810/TAFI_provided_data/BathymetryAsTiffs/fort1.tif'\n",
    "utm_proj = pyproj.Proj('+proj=utm +zone=55G, +south +ellps=WGS84')\n",
    "\n",
    "\n",
    "# corresponding bathy patches\n",
    "bpatch_dir = '/Volumes/Samsung_T3/bathy_training/bathy_patches_ohara_07'\n",
    "\n",
    "# cached images\n",
    "cached_images = '/Volumes/Samsung_T3/bathy_training/cache_images_ohara_07.npz'\n",
    "\n",
    "# cached bathymetry \n",
    "cached_bpatches = '/Volumes/Samsung_T3/bathy_training/cache_bpatches_ohara_07.npz'\n"
   ]
  },
  {
   "cell_type": "code",
   "execution_count": 3,
   "metadata": {},
   "outputs": [],
   "source": [
    "# parameters\n",
    "half_patch = 10\n",
    "bpsize = 2*half_patch+1 # bathy patch size in pixels\n",
    "\n",
    "\n",
    "\n",
    "patch_suffix = \"bp\" + str(bpsize) +\".npy\"\n",
    "\n"
   ]
  },
  {
   "cell_type": "code",
   "execution_count": 4,
   "metadata": {},
   "outputs": [],
   "source": [
    "def retrieve_pixel_coords(geo_coord,geot_params):\n",
    "    x, y = geo_coord[0], geo_coord[1]\n",
    "    forward_transform =  Affine.from_gdal(*geot_params)\n",
    "    reverse_transform = ~forward_transform\n",
    "    px, py = reverse_transform * (x, y)\n",
    "    #print('px size ', px.size)\n",
    "    #px = int(px + 0.5)\n",
    "    #py = int(py + 0.5)\n",
    "    px = np.around(px).astype(int)\n",
    "    py = np.around(py).astype(int)\n",
    "    pixel_coord = px, py\n",
    "    return pixel_coord"
   ]
  },
  {
   "cell_type": "code",
   "execution_count": 5,
   "metadata": {},
   "outputs": [],
   "source": [
    "def maybe_makedir(dirname, force=False):\n",
    "  if os.path.isdir(dirname) and not force:\n",
    "    # You may override by setting force=True.\n",
    "    print('%s already present - Skipping making dir' % (dirname))\n",
    "  else:\n",
    "    print('Making dir %s.' % dirname)\n",
    "    os.makedirs(dirname)\n",
    "  return "
   ]
  },
  {
   "cell_type": "code",
   "execution_count": 6,
   "metadata": {},
   "outputs": [
    {
     "name": "stdout",
     "output_type": "stream",
     "text": [
      "Driver: GTiff/GeoTIFF\n",
      "Size is 5161 x 14044 x 1\n",
      "Projection is PROJCS[\"WGS 84 / UTM zone 55S\",GEOGCS[\"WGS 84\",DATUM[\"WGS_1984\",SPHEROID[\"WGS 84\",6378137,298.257223563,AUTHORITY[\"EPSG\",\"7030\"]],AUTHORITY[\"EPSG\",\"6326\"]],PRIMEM[\"Greenwich\",0,AUTHORITY[\"EPSG\",\"8901\"]],UNIT[\"degree\",0.0174532925199433,AUTHORITY[\"EPSG\",\"9122\"]],AUTHORITY[\"EPSG\",\"4326\"]],PROJECTION[\"Transverse_Mercator\"],PARAMETER[\"latitude_of_origin\",0],PARAMETER[\"central_meridian\",147],PARAMETER[\"scale_factor\",0.9996],PARAMETER[\"false_easting\",500000],PARAMETER[\"false_northing\",10000000],UNIT[\"metre\",1,AUTHORITY[\"EPSG\",\"9001\"]],AXIS[\"Easting\",EAST],AXIS[\"Northing\",NORTH],AUTHORITY[\"EPSG\",\"32755\"]]\n",
      "Origin = (576177.38, 5249984.72)\n",
      "Pixel Size = (2.0, -2.0)\n"
     ]
    },
    {
     "data": {
      "text/plain": [
       "<matplotlib.image.AxesImage at 0x1a160ea710>"
      ]
     },
     "execution_count": 6,
     "metadata": {},
     "output_type": "execute_result"
    },
    {
     "data": {
      "image/png": "[encoded data removed]",
      "text/plain": [
       "<Figure size 432x288 with 1 Axes>"
      ]
     },
     "metadata": {
      "needs_background": "light"
     },
     "output_type": "display_data"
    }
   ],
   "source": [
    "# test section of input data\n",
    "in_ds = gdal.Open(bathy_all)\n",
    "\n",
    "\n",
    "\n",
    "print(\"Driver: {}/{}\".format(in_ds.GetDriver().ShortName,\n",
    "                             in_ds.GetDriver().LongName))\n",
    "print(\"Size is {} x {} x {}\".format(in_ds.RasterXSize,\n",
    "                                    in_ds.RasterYSize,\n",
    "                                    in_ds.RasterCount))\n",
    "print(\"Projection is {}\".format(in_ds.GetProjection()))\n",
    "geotransform = in_ds.GetGeoTransform()\n",
    "if geotransform:\n",
    "    print(\"Origin = ({}, {})\".format(geotransform[0], geotransform[3]))\n",
    "    print(\"Pixel Size = ({}, {})\".format(geotransform[1], geotransform[5]))\n",
    "    \n",
    "    \n",
    "plt.figure(1)\n",
    "plt.imshow(in_ds.GetRasterBand(1).ReadAsArray(), cmap = \"nipy_spectral\")"
   ]
  },
  {
   "cell_type": "code",
   "execution_count": 7,
   "metadata": {},
   "outputs": [],
   "source": [
    "def extract_bathy_patch(gdal_raster,off_ulx,off_uly,patch_size):\n",
    "    columns = patch_size\n",
    "    rows = patch_size\n",
    "    patch_data = gdal_raster.GetRasterBand(1).ReadAsArray(off_ulx, off_uly, columns, rows)\n",
    "    return patch_data\n",
    "    "
   ]
  },
  {
   "cell_type": "code",
   "execution_count": 8,
   "metadata": {},
   "outputs": [
    {
     "name": "stdout",
     "output_type": "stream",
     "text": [
      "stereo\n"
     ]
    }
   ],
   "source": [
    "renav, o_lat, o_lon, ftype = rutil.read_renav(pose_file)\n",
    "print(ftype)\n",
    "#renav = rutil.read_renav(pose_file)"
   ]
  },
  {
   "cell_type": "code",
   "execution_count": 9,
   "metadata": {},
   "outputs": [
    {
     "name": "stdout",
     "output_type": "stream",
     "text": [
      "/Volumes/Samsung_T3/bathy_training/bathy_patches_ohara_07 already present - Skipping making dir\n",
      " Image  11277  Name:  PR_20081008_021105_662_bp21.npyPR_20081008_000858_653_bp21.npy"
     ]
    }
   ],
   "source": [
    "maybe_makedir(bpatch_dir)\n",
    "\n",
    "depth_nav = []\n",
    "depth_bathy = []\n",
    "# for each image, \n",
    "for i, im in enumerate(renav['leftim']):\n",
    "    \n",
    "    # get coordinates in lat lon\n",
    "    # convert to pixel coords\n",
    "    x,y = utm_proj(renav['longitude'][i],renav['latitude'][i])\n",
    "    #print(\"lon lat, {},{}\".format(renav['longitude'][i],renav['latitude'][i]))\n",
    "    #print(\"utm {},{}\".format(x,y))\n",
    "    # convert UTM x,y coords into pixel coords \n",
    "    px, py = retrieve_pixel_coords([x,y], list(geotransform))\n",
    "    # calculate offsets\n",
    "    off_x = px - half_patch\n",
    "    off_y = py - half_patch\n",
    "   \n",
    "    off_x = int(np.round(off_x))\n",
    "    off_y = int(np.round(off_y))\n",
    "   \n",
    "    # cut out the bathy patch that corresponds\n",
    "    #print (off_x,off_y,bpsize)\n",
    "    bathy_patch = extract_bathy_patch(in_ds,off_x,off_y, bpsize)\n",
    "    # plot\n",
    "    if 0:\n",
    "        plt.figure(10)\n",
    "        plt.imshow(bathy_patch)\n",
    "        # to refresh in place\n",
    "        display.display(plt.gcf())\n",
    "        display.clear_output(wait=True)\n",
    "    # save with same name as image - different suffix (scale)\n",
    "    patch_name = im.replace(\"LC16.png\",patch_suffix)\n",
    "    # print overwriting same line\n",
    "    print('\\r', 'Image ', i, ' Name: ', patch_name, end='')\n",
    "    np.save(os.path.join(bpatch_dir,patch_name),bathy_patch)\n",
    "    \n",
    "    depth_nav[i] = renav['Zpos'][i] + renav['altitude'][i]\n",
    "    depth_bathy[i] = bathy_patch[half_patch,half_patch]\n",
    "\n",
    "plt.figure(11)\n",
    "plt.plot(depth_nav)\n",
    "plt.plot(depth_bathy)\n",
    "plt.legend(['auv','bathy'])"
   ]
  },
  {
   "cell_type": "code",
   "execution_count": 12,
   "metadata": {},
   "outputs": [
    {
     "name": "stdout",
     "output_type": "stream",
     "text": [
      "number of images 11278\n",
      "cache not available, loading individual images\n",
      " processing image number 11200 name PR_20081008_020948_651_LC16.png "
     ]
    }
   ],
   "source": [
    "(Im_train,_, packed_image_list) = pack_images(image_dir,cached_images)\n"
   ]
  },
  {
   "cell_type": "code",
   "execution_count": 13,
   "metadata": {},
   "outputs": [
    {
     "name": "stdout",
     "output_type": "stream",
     "text": [
      "processing bpatch for image number 0 name PR_20081007_230307_118_LC16.png \n",
      "processing bpatch for image number 100 name PR_20081007_230447_129_LC16.png \n",
      "processing bpatch for image number 200 name PR_20081007_230627_147_LC16.png \n",
      "processing bpatch for image number 300 name PR_20081007_230807_158_LC16.png \n",
      "processing bpatch for image number 400 name PR_20081007_230947_173_LC16.png \n",
      "processing bpatch for image number 500 name PR_20081007_231127_189_LC16.png \n",
      "processing bpatch for image number 600 name PR_20081007_231307_199_LC16.png \n",
      "processing bpatch for image number 700 name PR_20081007_231447_216_LC16.png \n",
      "processing bpatch for image number 800 name PR_20081007_231627_230_LC16.png \n",
      "processing bpatch for image number 900 name PR_20081007_231807_243_LC16.png \n",
      "processing bpatch for image number 1000 name PR_20081007_231947_256_LC16.png \n",
      "processing bpatch for image number 1100 name PR_20081007_232127_267_LC16.png \n",
      "processing bpatch for image number 1200 name PR_20081007_232307_284_LC16.png \n",
      "processing bpatch for image number 1300 name PR_20081007_232447_298_LC16.png \n",
      "processing bpatch for image number 1400 name PR_20081007_232627_311_LC16.png \n",
      "processing bpatch for image number 1500 name PR_20081007_232807_322_LC16.png \n",
      "processing bpatch for image number 1600 name PR_20081007_232947_336_LC16.png \n",
      "processing bpatch for image number 1700 name PR_20081007_233127_352_LC16.png \n",
      "processing bpatch for image number 1800 name PR_20081007_233307_364_LC16.png \n",
      "processing bpatch for image number 1900 name PR_20081007_233447_379_LC16.png \n",
      "processing bpatch for image number 2000 name PR_20081007_233627_392_LC16.png \n",
      "processing bpatch for image number 2100 name PR_20081007_233807_406_LC16.png \n",
      "processing bpatch for image number 2200 name PR_20081007_233947_420_LC16.png \n",
      "processing bpatch for image number 2300 name PR_20081007_234127_434_LC16.png \n",
      "processing bpatch for image number 2400 name PR_20081007_234307_448_LC16.png \n",
      "processing bpatch for image number 2500 name PR_20081007_234447_461_LC16.png \n",
      "processing bpatch for image number 2600 name PR_20081007_234627_474_LC16.png \n",
      "processing bpatch for image number 2700 name PR_20081007_234807_487_LC16.png \n",
      "processing bpatch for image number 2800 name PR_20081007_234947_500_LC16.png \n",
      "processing bpatch for image number 2900 name PR_20081007_235127_514_LC16.png \n",
      "processing bpatch for image number 3000 name PR_20081007_235307_527_LC16.png \n",
      "processing bpatch for image number 3100 name PR_20081007_235447_539_LC16.png \n",
      "processing bpatch for image number 3200 name PR_20081007_235627_554_LC16.png \n",
      "processing bpatch for image number 3300 name PR_20081007_235807_565_LC16.png \n",
      "processing bpatch for image number 3400 name PR_20081007_235947_578_LC16.png \n",
      "processing bpatch for image number 3500 name PR_20081008_000127_594_LC16.png \n",
      "processing bpatch for image number 3600 name PR_20081008_000307_609_LC16.png \n",
      "processing bpatch for image number 3700 name PR_20081008_000447_623_LC16.png \n",
      "processing bpatch for image number 3800 name PR_20081008_000627_634_LC16.png \n",
      "processing bpatch for image number 3900 name PR_20081008_000807_647_LC16.png \n",
      "processing bpatch for image number 4000 name PR_20081008_000947_660_LC16.png \n",
      "processing bpatch for image number 4100 name PR_20081008_001127_676_LC16.png \n",
      "processing bpatch for image number 4200 name PR_20081008_001307_690_LC16.png \n",
      "processing bpatch for image number 4300 name PR_20081008_001447_708_LC16.png \n",
      "processing bpatch for image number 4400 name PR_20081008_001627_716_LC16.png \n",
      "processing bpatch for image number 4500 name PR_20081008_001807_734_LC16.png \n",
      "processing bpatch for image number 4600 name PR_20081008_001947_749_LC16.png \n",
      "processing bpatch for image number 4700 name PR_20081008_002127_763_LC16.png \n",
      "processing bpatch for image number 4800 name PR_20081008_002307_774_LC16.png \n",
      "processing bpatch for image number 4900 name PR_20081008_002447_790_LC16.png \n",
      "processing bpatch for image number 5000 name PR_20081008_002627_801_LC16.png \n",
      "processing bpatch for image number 5100 name PR_20081008_002807_816_LC16.png \n",
      "processing bpatch for image number 5200 name PR_20081008_002947_830_LC16.png \n",
      "processing bpatch for image number 5300 name PR_20081008_003127_856_LC16.png \n",
      "processing bpatch for image number 5400 name PR_20081008_003307_857_LC16.png \n",
      "processing bpatch for image number 5500 name PR_20081008_003447_871_LC16.png \n",
      "processing bpatch for image number 5600 name PR_20081008_003627_882_LC16.png \n",
      "processing bpatch for image number 5700 name PR_20081008_003807_896_LC16.png \n",
      "processing bpatch for image number 5800 name PR_20081008_003947_914_LC16.png \n",
      "processing bpatch for image number 5900 name PR_20081008_004127_924_LC16.png \n",
      "processing bpatch for image number 6000 name PR_20081008_004307_940_LC16.png \n",
      "processing bpatch for image number 6100 name PR_20081008_004447_954_LC16.png \n",
      "processing bpatch for image number 6200 name PR_20081008_004627_969_LC16.png \n",
      "processing bpatch for image number 6300 name PR_20081008_004807_982_LC16.png \n",
      "processing bpatch for image number 6400 name PR_20081008_004947_990_LC16.png \n",
      "processing bpatch for image number 6500 name PR_20081008_005128_007_LC16.png \n",
      "processing bpatch for image number 6600 name PR_20081008_005308_021_LC16.png \n",
      "processing bpatch for image number 6700 name PR_20081008_005448_034_LC16.png \n",
      "processing bpatch for image number 6800 name PR_20081008_005628_048_LC16.png \n",
      "processing bpatch for image number 6900 name PR_20081008_005808_061_LC16.png \n",
      "processing bpatch for image number 7000 name PR_20081008_005948_074_LC16.png \n",
      "processing bpatch for image number 7100 name PR_20081008_010128_090_LC16.png \n",
      "processing bpatch for image number 7200 name PR_20081008_010308_101_LC16.png \n",
      "processing bpatch for image number 7300 name PR_20081008_010448_117_LC16.png \n",
      "processing bpatch for image number 7400 name PR_20081008_010628_128_LC16.png \n",
      "processing bpatch for image number 7500 name PR_20081008_010808_141_LC16.png \n",
      "processing bpatch for image number 7600 name PR_20081008_010948_158_LC16.png \n",
      "processing bpatch for image number 7700 name PR_20081008_011128_171_LC16.png \n",
      "processing bpatch for image number 7800 name PR_20081008_011308_185_LC16.png \n",
      "processing bpatch for image number 7900 name PR_20081008_011448_197_LC16.png \n",
      "processing bpatch for image number 8000 name PR_20081008_011628_212_LC16.png \n",
      "processing bpatch for image number 8100 name PR_20081008_011808_227_LC16.png \n",
      "processing bpatch for image number 8200 name PR_20081008_011948_238_LC16.png \n",
      "processing bpatch for image number 8300 name PR_20081008_012128_255_LC16.png \n",
      "processing bpatch for image number 8400 name PR_20081008_012308_265_LC16.png \n",
      "processing bpatch for image number 8500 name PR_20081008_012448_282_LC16.png \n",
      "processing bpatch for image number 8600 name PR_20081008_012628_293_LC16.png \n",
      "processing bpatch for image number 8700 name PR_20081008_012808_310_LC16.png \n",
      "processing bpatch for image number 8800 name PR_20081008_012948_321_LC16.png \n",
      "processing bpatch for image number 8900 name PR_20081008_013128_335_LC16.png \n",
      "processing bpatch for image number 9000 name PR_20081008_013308_347_LC16.png \n",
      "processing bpatch for image number 9100 name PR_20081008_013448_365_LC16.png \n",
      "processing bpatch for image number 9200 name PR_20081008_013628_377_LC16.png \n",
      "processing bpatch for image number 9300 name PR_20081008_013808_393_LC16.png \n",
      "processing bpatch for image number 9400 name PR_20081008_013948_407_LC16.png \n",
      "processing bpatch for image number 9500 name PR_20081008_014128_420_LC16.png \n",
      "processing bpatch for image number 9600 name PR_20081008_014308_429_LC16.png \n",
      "processing bpatch for image number 9700 name PR_20081008_014448_445_LC16.png \n",
      "processing bpatch for image number 9800 name PR_20081008_014628_462_LC16.png \n",
      "processing bpatch for image number 9900 name PR_20081008_014808_475_LC16.png \n",
      "processing bpatch for image number 10000 name PR_20081008_014948_488_LC16.png \n",
      "processing bpatch for image number 10100 name PR_20081008_015128_502_LC16.png \n",
      "processing bpatch for image number 10200 name PR_20081008_015308_516_LC16.png \n",
      "processing bpatch for image number 10300 name PR_20081008_015448_528_LC16.png \n",
      "processing bpatch for image number 10400 name PR_20081008_015628_543_LC16.png \n",
      "processing bpatch for image number 10500 name PR_20081008_015808_554_LC16.png \n",
      "processing bpatch for image number 10600 name PR_20081008_015948_567_LC16.png \n",
      "processing bpatch for image number 10700 name PR_20081008_020128_583_LC16.png \n"
     ]
    },
    {
     "name": "stdout",
     "output_type": "stream",
     "text": [
      "processing bpatch for image number 10800 name PR_20081008_020308_594_LC16.png \n",
      "processing bpatch for image number 10900 name PR_20081008_020448_608_LC16.png \n",
      "processing bpatch for image number 11000 name PR_20081008_020628_627_LC16.png \n",
      "processing bpatch for image number 11100 name PR_20081008_020808_640_LC16.png \n",
      "processing bpatch for image number 11200 name PR_20081008_020948_651_LC16.png \n"
     ]
    }
   ],
   "source": [
    "(Bp_train,_) = pack_bpatches(bpatch_dir, cached_bpatches, packed_image_list, bpsize )"
   ]
  },
  {
   "cell_type": "code",
   "execution_count": null,
   "metadata": {},
   "outputs": [],
   "source": []
  }
 ],
 "metadata": {
  "kernelspec": {
   "display_name": "Python 2",
   "language": "python",
   "name": "python2"
  },
  "language_info": {
   "codemirror_mode": {
    "name": "ipython",
    "version": 2
   },
   "file_extension": ".py",
   "mimetype": "text/x-python",
   "name": "python",
   "nbconvert_exporter": "python",
   "pygments_lexer": "ipython2",
   "version": "2.7.12"
  }
 },
 "nbformat": 4,
 "nbformat_minor": 1
}
