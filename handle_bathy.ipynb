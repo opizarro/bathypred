{
 "cells": [
  {
   "cell_type": "code",
   "execution_count": 171,
   "metadata": {
    "collapsed": false
   },
   "outputs": [],
   "source": [
    "from osgeo import gdal\n",
    "import numpy as np\n",
    "import os\n",
    "import scipy.ndimage\n",
    "import scipy.stats\n",
    "import matplotlib.pyplot as plt\n",
    "import time\n",
    "import skimage.measure\n"
   ]
  },
  {
   "cell_type": "code",
   "execution_count": 2,
   "metadata": {
    "collapsed": false
   },
   "outputs": [],
   "source": [
    "def make_raster(in_ds, fn, data, data_type, nodata=None): \n",
    "    \"\"\"Create a one-band GeoTIFF.\n",
    "    in_ds     - datasource to copy projection and geotransform from\n",
    "    fn        - path to the file to create\n",
    "    data      - NumPy array containing data to write\n",
    "    data_type - output data type\n",
    "    nodata    - optional NoData value\n",
    "    \"\"\"\n",
    "    driver = gdal.GetDriverByName('GTiff')\n",
    "    out_ds = driver.Create(fn, in_ds.RasterXSize, in_ds.RasterYSize, 1, data_type)\n",
    "    out_ds.SetProjection(in_ds.GetProjection()) \n",
    "    out_ds.SetGeoTransform(in_ds.GetGeoTransform())\n",
    "    out_band = out_ds.GetRasterBand(1)\n",
    "    if nodata is not None:\n",
    "        out_band.SetNoDataValue(nodata)\n",
    "        out_band.WriteArray(data)\n",
    "        out_band.FlushCache()\n",
    "        out_band.ComputeStatistics(False)\n",
    "    return out_ds"
   ]
  },
  {
   "cell_type": "code",
   "execution_count": 23,
   "metadata": {
    "collapsed": true
   },
   "outputs": [],
   "source": [
    "# Write a function that calculates slope using a 3x3 window.\n",
    "# This will be passed to the SciPy filter function below.\n",
    "def slope(data, cell_width, cell_height):\n",
    "    \"\"\"Calculates slope using a 3x3 window.\n",
    "\n",
    "    data        - 1D array containing the 9 pixel values, starting\n",
    "                  in the upper left and going left to right and down\n",
    "    cell_width  - pixel width in the same units as the data\n",
    "    cell_height - pixel height in the same units as the data\n",
    "    \"\"\"\n",
    "    rise = ((data[6] + (2 * data[7]) + data[8]) - (data[0] + (2 * data[1]) + data[2])) / (8 * cell_height)\n",
    "    run =  ((data[2] + (2 * data[5]) + data[8]) - (data[0] + (2 * data[3]) + data[6])) / (8 * cell_width)\n",
    "    dist = np.sqrt(np.square(rise) + np.square(run))\n",
    "    return np.arctan(dist) * 180 / np.pi"
   ]
  },
  {
   "cell_type": "code",
   "execution_count": 125,
   "metadata": {
    "collapsed": false
   },
   "outputs": [],
   "source": [
    "# Write a function that calculates 3D area of DEM using a 3x3 window.\n",
    "# This will be passed to the SciPy filter function below.\n",
    "def area3D(data, cell_width, cell_height):\n",
    "    \"\"\"Calculates area per cell using a 3x3 window and a triangulated regular network.\n",
    "\n",
    "    data        - 1D array containing the 9 pixel values, starting\n",
    "                  in the upper left and going left to right and down\n",
    "    cell_width  - pixel width in the same units as the data\n",
    "    cell_height - pixel height in the same units as the data\n",
    "    \"\"\"\n",
    "    \n",
    "    xyz1 = np.array([0*cell_height,1*cell_width,data[1]])\n",
    "    xyz2 = np.array([0*cell_height,2*cell_width,data[2]])\n",
    "    xyz3 = np.array([1*cell_height,0*cell_width,data[3]])\n",
    "    xyz4 = np.array([1*cell_height,1*cell_width,data[4]])\n",
    "    xyz5 = np.array([1*cell_height,2*cell_width,data[5]])\n",
    "    xyz6 = np.array([2*cell_height,0*cell_width,data[6]])\n",
    "    xyz7 = np.array([2*cell_height,1*cell_width,data[7]])\n",
    "    \n",
    "    base12 = np.linalg.norm(xyz1 - xyz2)\n",
    "    base34 = np.linalg.norm(xyz3 - xyz4)\n",
    "    base45 = np.linalg.norm(xyz4 - xyz5)\n",
    "    base67 = np.linalg.norm(xyz6 - xyz7)\n",
    "    \n",
    "    height14 = np.linalg.norm(xyz1 - xyz4)\n",
    "    height25 = np.linalg.norm(xyz2 - xyz5)\n",
    "    height36 = np.linalg.norm(xyz3 - xyz6)\n",
    "    height47 = np.linalg.norm(xyz4 - xyz7)\n",
    "    \n",
    "    t124 = base12*height14/2\n",
    "    t134 = base34*height14/2\n",
    "    t245 = base45*height25/2\n",
    "    t346 = base34*height36/2\n",
    "    t457 = base45*height47/2\n",
    "    t467 = base67*height47/2\n",
    "    \n",
    "    area = 0.25*(t124+t245+t346+t467)+0.5*(t134+t457)\n",
    "    \n",
    "    return area"
   ]
  },
  {
   "cell_type": "code",
   "execution_count": null,
   "metadata": {
    "collapsed": false
   },
   "outputs": [],
   "source": [
    "# fit plane to DEM in a local window\n",
    "def fit_plane_local(data, cell_width, cell_height):\n",
    "\n",
    "    # figure out size of window\n",
    "    npoints = data.size\n",
    "    #dim = data.shape[0]\n",
    "    dim = int(np.sqrt(npoints))\n",
    "   # print(\"npoints \", npoints)\n",
    "   # print(\"npoints again\", npoints)\n",
    "    # fitting [x y 1][a b c]'=z for multiple rows of x,y,z (at least three)\n",
    "    # M*A=Z\n",
    "    \n",
    "    \n",
    "    \n",
    "    M = np.ones((npoints,3)) \n",
    "    k = 0\n",
    "    for i in range(dim):\n",
    "        for j in range(dim):\n",
    "            M[k,:] = [j*cell_width, i*cell_height, 1]\n",
    "            k+=1\n",
    "  \n",
    "    #indmatx = np.outer(ones((1,dim)),[range(dim)])\n",
    "    #indmaty = indmatx.transpose()\n",
    "    #xvec = indmatx.reshape(npoints,1) * cell_width\n",
    "    #yvec = indmaty.reshape(npoints,1) * cell_height\n",
    "    #M = np.concatenate((xvec, yvec, np.ones((npoints,1))), axis=1)\n",
    "    \n",
    "    a,b,c = np.linalg.lstsq(M,data)[0]\n",
    "   # print (\"a {}, b {}, c{} \".format(a,b,c))\n",
    "    #slope_x = a\n",
    "    #slope_y = b\n",
    "    #z_intestect = c\n",
    "    #aspect = np.arctan2(b,a)\n",
    "    \n",
    "    #slope = np.linalg.norm([a,b])\n",
    "   \n",
    "   # slope = dim\n",
    "   # print(\"slope \",slope)\n",
    "    return complex(a,b)"
   ]
  },
  {
   "cell_type": "code",
   "execution_count": 126,
   "metadata": {
    "collapsed": true
   },
   "outputs": [],
   "source": [
    "#in_fn = '/Users/opizarro/data/FK20180119/bathy/hawaii_bty_5m_Au_au_0-400m.tif' # low res version - not 5m\n",
    "in_fn = '/Users/opizarro/data/FK20180119/bathy/au_au_clipped_UTM_4N.tif'"
   ]
  },
  {
   "cell_type": "code",
   "execution_count": 122,
   "metadata": {
    "collapsed": false
   },
   "outputs": [
    {
     "name": "stdout",
     "output_type": "stream",
     "text": [
      "('cell height ', -4.9997952662983325)\n",
      "('input data shape ', (4788, 6705))\n"
     ]
    }
   ],
   "source": [
    "# all input data\n",
    "in_ds = gdal.Open(in_fn)\n",
    "in_data = in_ds.GetRasterBand(1).ReadAsArray()\n",
    "\n",
    "\n",
    "#cell_width = 5\n",
    "cell_width = in_ds.GetGeoTransform()[1]\n",
    "#cell_height = 5 \n",
    "cell_height = in_ds.GetGeoTransform()[5]\n",
    "print(\"cell height \",cell_height)\n",
    "print(\"input data shape \",in_data.shape)"
   ]
  },
  {
   "cell_type": "code",
   "execution_count": 127,
   "metadata": {
    "collapsed": false
   },
   "outputs": [
    {
     "name": "stdout",
     "output_type": "stream",
     "text": [
      "('cell height ', -4.9997952662983325)\n",
      "('input data shape ', (800, 1000))\n"
     ]
    }
   ],
   "source": [
    "# test section of input data\n",
    "in_ds = gdal.Open(in_fn)\n",
    "\n",
    "off_ulx = 3300\n",
    "off_uly = 2000\n",
    "columns = 1000\n",
    "rows = 800\n",
    "in_data = in_ds.GetRasterBand(1).ReadAsArray(off_ulx, off_uly, columns, rows)\n",
    "\n",
    "\n",
    "#cell_width = 5\n",
    "cell_width = in_ds.GetGeoTransform()[1]\n",
    "#cell_height = 5 \n",
    "cell_height = in_ds.GetGeoTransform()[5]\n",
    "print(\"cell height \",cell_height)\n",
    "print(\"input data shape \",in_data.shape)"
   ]
  },
  {
   "cell_type": "code",
   "execution_count": 23,
   "metadata": {
    "collapsed": false
   },
   "outputs": [
    {
     "name": "stdout",
     "output_type": "stream",
     "text": [
      "[[ 0.         -0.          1.        ]\n",
      " [ 4.99962942 -0.          1.        ]\n",
      " [ 9.99925885 -0.          1.        ]\n",
      " [ 0.         -4.99979527  1.        ]\n",
      " [ 4.99962942 -4.99979527  1.        ]\n",
      " [ 9.99925885 -4.99979527  1.        ]\n",
      " [ 0.         -9.99959053  1.        ]\n",
      " [ 4.99962942 -9.99959053  1.        ]\n",
      " [ 9.99925885 -9.99959053  1.        ]]\n",
      "[[ -3.33358040e-02   6.32959636e-18   3.33358040e-02  -3.33358040e-02\n",
      "    1.86967513e-18   3.33358040e-02  -3.33358040e-02  -1.19404796e-17\n",
      "    3.33358040e-02]\n",
      " [  3.33346983e-02   3.33346983e-02   3.33346983e-02  -2.23694065e-17\n",
      "   -7.82245417e-18   1.08849024e-17  -3.33346983e-02  -3.33346983e-02\n",
      "   -3.33346983e-02]\n",
      " [  4.44444444e-01   2.77777778e-01   1.11111111e-01   2.77777778e-01\n",
      "    1.11111111e-01  -5.55555556e-02   1.11111111e-01  -5.55555556e-02\n",
      "   -2.22222222e-01]]\n"
     ]
    }
   ],
   "source": [
    "# fit plane to DEM in a local window\n",
    " # figure out size of window\n",
    "npoints = 9\n",
    "    #dim = data.shape[0]\n",
    "dim = int(np.sqrt(npoints))\n",
    "   # print(\"npoints \", npoints)\n",
    "   # print(\"npoints again\", npoints)\n",
    "    # fitting [x y 1][a b c]'=z for multiple rows of x,y,z (at least three)\n",
    "    # M*A=Z\n",
    "    \n",
    "    \n",
    "    \n",
    "M = np.ones((npoints,3)) \n",
    "k = 0\n",
    "for i in range(dim):\n",
    "    for j in range(dim):\n",
    "        M[k,:] = [j*cell_width, i*cell_height, 1]\n",
    "        k+=1\n",
    "\n",
    "Pinv = np.linalg.pinv(M)        \n",
    "print(M)\n",
    "print(Pinv)\n",
    "        \n",
    "def fit_plane_local_M(data, cell_width, cell_height,Pinv):\n",
    "\n",
    "   \n",
    "  \n",
    "    #indmatx = np.outer(ones((1,dim)),[range(dim)])\n",
    "    #indmaty = indmatx.transpose()\n",
    "    #xvec = indmatx.reshape(npoints,1) * cell_width\n",
    "    #yvec = indmaty.reshape(npoints,1) * cell_height\n",
    "    #M = np.concatenate((xvec, yvec, np.ones((npoints,1))), axis=1)\n",
    "    \n",
    "    ##a,b,c = np.linalg.lstsq(M,data)[0]\n",
    "   # print (\"a {}, b {}, c{} \".format(a,b,c))\n",
    "    #slope_x = a\n",
    "    #slope_y = b\n",
    "    #z_intestect = c\n",
    "    #aspect = np.arctan2(b,a)\n",
    "    \n",
    "    #slope = np.linalg.norm([a,b])\n",
    "   \n",
    "    theta = np.dot(Pinv,data)\n",
    "    a = theta[0]\n",
    "   # slope = dim\n",
    "   # print(\"slope \",slope)\n",
    "    return a"
   ]
  },
  {
   "cell_type": "code",
   "execution_count": 128,
   "metadata": {
    "collapsed": false
   },
   "outputs": [],
   "source": [
    "# wrapper functon to allow for different window sizes\n",
    "\n",
    "\n",
    "        \n",
    "def fit_plane_local_a(data, cell_width, cell_height,Pinv):\n",
    "    \n",
    "    theta = np.dot(Pinv,data)\n",
    "    a = theta[0]\n",
    "    return a\n",
    "\n",
    "def fit_plane_local_b(data, cell_width, cell_height,Pinv):\n",
    "    \n",
    "    theta = np.dot(Pinv,data)\n",
    "    b = theta[1]\n",
    "    return b\n",
    "\n",
    "def fit_plane_window(in_data, win_size, cell_width, cell_height ):\n",
    "    \n",
    "    dim = win_size\n",
    "    npoints = dim**2\n",
    "    M = np.ones((npoints,3)) \n",
    "    k = 0\n",
    "    for i in range(dim):\n",
    "        for j in range(dim):\n",
    "            M[k,:] = [j*cell_width, i*cell_height, 1]\n",
    "            k+=1\n",
    "\n",
    "    Pinv = np.linalg.pinv(M)        \n",
    "\n",
    "    a = scipy.ndimage.filters.generic_filter(in_data, fit_plane_local_a, size=win_size, mode='nearest', extra_arguments=(\n",
    "        cell_width, cell_height, Pinv))\n",
    "    \n",
    "    b = scipy.ndimage.filters.generic_filter(in_data, fit_plane_local_b, size=win_size, mode='nearest', extra_arguments=(\n",
    "        cell_width, cell_height, Pinv))\n",
    "    \n",
    "    # plane equation is ax + by +c = z\n",
    "    # or a*(j*cw) + b*(i*ch) + c = z\n",
    "    slope = np.arctan(np.sqrt(np.square(a)+np.square(b)))*180/np.pi\n",
    "    aspect = np.arctan2(b,a)*180/np.pi\n",
    "    # area per horizontal unit area\n",
    "    areaphua = np.sqrt(np.square(a)+np.square(b)+np.ones(a.shape))\n",
    "    print(slope.shape)\n",
    "    print(aspect.shape)\n",
    "        \n",
    "    return (slope, aspect, areaphua, a, b)\n"
   ]
  },
  {
   "cell_type": "code",
   "execution_count": 6,
   "metadata": {
    "collapsed": false
   },
   "outputs": [
    {
     "name": "stderr",
     "output_type": "stream",
     "text": [
      "/usr/local/lib/python2.7/site-packages/ipykernel/__main__.py:37: RuntimeWarning: overflow encountered in square\n"
     ]
    },
    {
     "name": "stdout",
     "output_type": "stream",
     "text": [
      "(4788, 6705)\n",
      "(4788, 6705)\n",
      "('shape of slope ', (4788, 6705))\n",
      "('ellapsed time ', 555.2659420967102)\n",
      "('cell height ', -4.9997952662983325)\n"
     ]
    }
   ],
   "source": [
    "\n",
    "# test at one scale\n",
    "win_size = 3\n",
    "tic = time.tic = time.time()time()\n",
    "slope3, aspect3 = fit_plane_window(in_data, win_size, cell_width, cell_height)\n",
    "toc = time.time()\n",
    "print(\"shape of slope \", slope.shape)\n",
    "print(\"ellapsed time \", toc-tic)\n",
    "print(\"cell height \",cell_height)\n",
    "plt.figure(5)\n",
    "plt.imshow(slope)\n",
    "plt.draw()\n",
    "plt.figure(6)\n",
    "plt.imshow(aspect)\n",
    "plt.draw()\n",
    "plt.show(block=False)"
   ]
  },
  {
   "cell_type": "code",
   "execution_count": null,
   "metadata": {
    "collapsed": true
   },
   "outputs": [],
   "source": []
  },
  {
   "cell_type": "code",
   "execution_count": 129,
   "metadata": {
    "collapsed": false
   },
   "outputs": [
    {
     "name": "stdout",
     "output_type": "stream",
     "text": [
      "('shape of area3 ', (800, 1000))\n",
      "('ellapsed time ', 34.56671714782715)\n"
     ]
    }
   ],
   "source": [
    "# calculate 3D area per cell\n",
    "tic = time.time()\n",
    "area3 = scipy.ndimage.filters.generic_filter(in_data, area3D, size=3, mode='nearest', extra_arguments=(\n",
    "        cell_width, cell_height))\n",
    "toc = time.time()\n",
    "print(\"shape of area3 \",area3.shape)\n",
    "print(\"ellapsed time \",toc-tic)\n",
    "plt.figure(1)\n",
    "plt.imshow(area3)\n",
    "plt.draw()\n",
    "plt.show(block=False)\n"
   ]
  },
  {
   "cell_type": "code",
   "execution_count": 130,
   "metadata": {
    "collapsed": false
   },
   "outputs": [
    {
     "name": "stdout",
     "output_type": "stream",
     "text": [
      "('window size ', 3)\n",
      "(800, 1000)\n",
      "(800, 1000)\n",
      "('shape of slope ', (800, 1000))\n",
      "('ellapsed time ', 1.6733429431915283)\n",
      "('window size ', 5)\n",
      "(800, 1000)\n",
      "(800, 1000)\n",
      "('shape of slope ', (800, 1000))\n",
      "('ellapsed time ', 1.7282450199127197)\n",
      "('window size ', 7)\n",
      "(800, 1000)\n",
      "(800, 1000)\n",
      "('shape of slope ', (800, 1000))\n",
      "('ellapsed time ', 1.8504998683929443)\n",
      "('window size ', 9)\n",
      "(800, 1000)\n",
      "(800, 1000)\n",
      "('shape of slope ', (800, 1000))\n",
      "('ellapsed time ', 1.8792529106140137)\n"
     ]
    }
   ],
   "source": [
    "scales = []\n",
    "feat = []\n",
    "for win_size in [3,5,7,9]:\n",
    "    print(\"window size \", win_size)\n",
    "    tic = time.time()\n",
    "    slope, aspect, areaphua, a, b = fit_plane_window(in_data, win_size, cell_width, cell_height)\n",
    "   \n",
    "    area3Dwin = scipy.ndimage.filters.uniform_filter(area3,win_size)\n",
    "    rugosity = np.divide(area3Dwin,areaphua*cell_width*cell_height)\n",
    "    \n",
    "    toc = time.time()\n",
    "    \n",
    "    scales.append((win_size,slope, aspect, rugosity, area3Dwin, areaphua, a, b))\n",
    "    \n",
    "    feat.append(slope)\n",
    "    feat.append(aspect)\n",
    "    feat.append(rugosity)\n",
    "    #feat.append(np.stack((slope, aspect, rugosity), axis=-1))\n",
    "    #print(\"feat shape \" ,np.stack((slope, aspect, rugosity), axis=-1).shape)\n",
    "    print(\"shape of slope \", slope.shape)\n",
    "    print(\"ellapsed time \", toc-tic)\n",
    "    plt.figure(win_size*5)\n",
    "    plt.imshow(slope)\n",
    "    plt.title('slope %s'%(win_size))\n",
    "    \n",
    "#    plt.figure(win_size*5+1)\n",
    "#    plt.imshow(aspect, cmap=\"hsv\")\n",
    "#    plt.title('aspect %s'%(win_size))\n",
    "    \n",
    "#    plt.figure(win_size*5+2)\n",
    "#    plt.imshow(rugosity)\n",
    "#    plt.title('rugosity %s'%(win_size))\n",
    "    \n",
    "#    plt.figure(win_size*5+3)\n",
    "#    plt.imshow(area3Dwin)\n",
    "#    plt.title('area3Dwin %s'%(win_size))\n",
    "    \n",
    "#    plt.figure(win_size*5+4)\n",
    "#    plt.imshow(areaphua)\n",
    "#    plt.title('areaphua %s'%(win_size))\n",
    "    \n",
    "    \n",
    "plt.show(block=False)\n",
    "\n",
    "# add depth data\n",
    "feat.append(in_data)\n",
    "# stack list in 3 dimensional array\n",
    "featstack = np.stack(feat,axis=-1)"
   ]
  },
  {
   "cell_type": "code",
   "execution_count": 115,
   "metadata": {
    "collapsed": false
   },
   "outputs": [
    {
     "name": "stdout",
     "output_type": "stream",
     "text": [
      "('feature stack shape ', (800, 1000, 13))\n"
     ]
    }
   ],
   "source": [
    "#print(\"in_data shape \",in_data.shape)\n",
    "#feat= []\n",
    "#feat.append(in_data)\n",
    "\n",
    "\n",
    "print(\"feature stack shape \",featstack.shape)\n",
    "\n",
    "plt.figure(5)\n",
    "nplots = featstack.shape[2]\n",
    "f, faxarr = plt.subplots(4,1)\n",
    "g, gaxarr = plt.subplots(4,1)\n",
    "h, haxarr = plt.subplots(4,1)\n",
    "\n",
    "\n",
    "for k in range(4):\n",
    "    faxarr[k].hist(featstack[:,:,3*k].flatten(),bins=50)\n",
    "    gaxarr[k].hist(featstack[:,:,3*k+1].flatten(),bins=50)\n",
    "    haxarr[k].hist(featstack[:,:,3*k+2].flatten(),bins=np.arange(0.9,1.5,0.02))\n",
    "\n",
    "plt.show(block=False)\n",
    "\n",
    "\n"
   ]
  },
  {
   "cell_type": "code",
   "execution_count": 137,
   "metadata": {
    "collapsed": false
   },
   "outputs": [
    {
     "name": "stdout",
     "output_type": "stream",
     "text": [
      "('proc_data shape', (800, 1000, 1))\n",
      "Initializing clusters along diagonal of N-dimensional bounding box.\n",
      "Iteration 1...  0.0%\b\b\b\b\b\b\b\b\b\b\b\b\b\b\b\b\b\b\b\bIteration 1...799999 pixels reassigned.\n",
      "Iteration 2...  0.0%\b\b\b\b\b\b\b\b\b\b\b\b\b\b\b\b\b\b\b\bIteration 2...55420 pixels reassigned.\n",
      "Iteration 3...  0.0%\b\b\b\b\b\b\b\b\b\b\b\b\b\b\b\b\b\b\b\bIteration 3...43625 pixels reassigned.\n",
      "Iteration 4...  0.0%\b\b\b\b\b\b\b\b\b\b\b\b\b\b\b\b\b\b\b\bIteration 4...36471 pixels reassigned.\n",
      "Iteration 5...  0.0%\b\b\b\b\b\b\b\b\b\b\b\b\b\b\b\b\b\b\b\bIteration 5...29847 pixels reassigned.\n",
      "Iteration 6...  0.0%\b\b\b\b\b\b\b\b\b\b\b\b\b\b\b\b\b\b\b\bIteration 6...23750 pixels reassigned.\n",
      "Iteration 7...  0.0%\b\b\b\b\b\b\b\b\b\b\b\b\b\b\b\b\b\b\b\bIteration 7...21999 pixels reassigned.\n",
      "Iteration 8...  0.0%\b\b\b\b\b\b\b\b\b\b\b\b\b\b\b\b\b\b\b\bIteration 8...19411 pixels reassigned.\n",
      "Iteration 9...  0.0%\b\b\b\b\b\b\b\b\b\b\b\b\b\b\b\b\b\b\b\bIteration 9...16075 pixels reassigned.\n",
      "Iteration 10...  0.0%\b\b\b\b\b\b\b\b\b\b\b\b\b\b\b\b\b\b\b\b\bIteration 10...13725 pixels reassigned.\n",
      "Iteration 11...  0.0%\b\b\b\b\b\b\b\b\b\b\b\b\b\b\b\b\b\b\b\b\bIteration 11...11603 pixels reassigned.\n",
      "Iteration 12...  0.0%\b\b\b\b\b\b\b\b\b\b\b\b\b\b\b\b\b\b\b\b\bIteration 12...10011 pixels reassigned.\n",
      "Iteration 13...  0.0%\b\b\b\b\b\b\b\b\b\b\b\b\b\b\b\b\b\b\b\b\bIteration 13...8217 pixels reassigned.\n",
      "Iteration 14...  0.0%\b\b\b\b\b\b\b\b\b\b\b\b\b\b\b\b\b\b\b\b\bIteration 14...7090 pixels reassigned.\n",
      "Iteration 15...  0.0%\b\b\b\b\b\b\b\b\b\b\b\b\b\b\b\b\b\b\b\b\bIteration 15...6461 pixels reassigned.\n",
      "Iteration 16...  0.0%\b\b\b\b\b\b\b\b\b\b\b\b\b\b\b\b\b\b\b\b\bIteration 16...5938 pixels reassigned.\n",
      "Iteration 17...  0.0%\b\b\b\b\b\b\b\b\b\b\b\b\b\b\b\b\b\b\b\b\bIteration 17...5480 pixels reassigned.\n",
      "Iteration 18...  0.0%\b\b\b\b\b\b\b\b\b\b\b\b\b\b\b\b\b\b\b\b\bIteration 18...4983 pixels reassigned.\n",
      "Iteration 19...  0.0%\b\b\b\b\b\b\b\b\b\b\b\b\b\b\b\b\b\b\b\b\bIteration 19...4726 pixels reassigned.\n",
      "Iteration 20...  0.0%\b\b\b\b\b\b\b\b\b\b\b\b\b\b\b\b\b\b\b\b\bIteration 20...4752 pixels reassigned.\n",
      "Iteration 21...  0.0%\b\b\b\b\b\b\b\b\b\b\b\b\b\b\b\b\b\b\b\b\bIteration 21...5724 pixels reassigned.\n",
      "Iteration 22...  0.0%\b\b\b\b\b\b\b\b\b\b\b\b\b\b\b\b\b\b\b\b\bIteration 22...7289 pixels reassigned.\n",
      "Iteration 23...  0.0%\b\b\b\b\b\b\b\b\b\b\b\b\b\b\b\b\b\b\b\b\bIteration 23...7060 pixels reassigned.\n",
      "Iteration 24...  0.0%\b\b\b\b\b\b\b\b\b\b\b\b\b\b\b\b\b\b\b\b\bIteration 24...6272 pixels reassigned.\n",
      "Iteration 25...  0.0%\b\b\b\b\b\b\b\b\b\b\b\b\b\b\b\b\b\b\b\b\bIteration 25...5775 pixels reassigned.\n",
      "Iteration 26...  0.0%\b\b\b\b\b\b\b\b\b\b\b\b\b\b\b\b\b\b\b\b\bIteration 26...5331 pixels reassigned.\n",
      "Iteration 27...  0.0%\b\b\b\b\b\b\b\b\b\b\b\b\b\b\b\b\b\b\b\b\bIteration 27...5625 pixels reassigned.\n",
      "Iteration 28...  0.0%\b\b\b\b\b\b\b\b\b\b\b\b\b\b\b\b\b\b\b\b\bIteration 28...5363 pixels reassigned.\n",
      "Iteration 29...  0.0%\b\b\b\b\b\b\b\b\b\b\b\b\b\b\b\b\b\b\b\b\bIteration 29...5115 pixels reassigned.\n",
      "Iteration 30...  0.0%\b\b\b\b\b\b\b\b\b\b\b\b\b\b\b\b\b\b\b\b\bIteration 30...4860 pixels reassigned.\n",
      "Iteration 31...  0.0%\b\b\b\b\b\b\b\b\b\b\b\b\b\b\b\b\b\b\b\b\bIteration 31...4568 pixels reassigned.\n",
      "Iteration 32...  0.0%\b\b\b\b\b\b\b\b\b\b\b\b\b\b\b\b\b\b\b\b\bIteration 32...4315 pixels reassigned.\n",
      "Iteration 33...  0.0%\b\b\b\b\b\b\b\b\b\b\b\b\b\b\b\b\b\b\b\b\bIteration 33...4181 pixels reassigned.\n",
      "Iteration 34...  0.0%\b\b\b\b\b\b\b\b\b\b\b\b\b\b\b\b\b\b\b\b\bIteration 34...3961 pixels reassigned.\n",
      "Iteration 35...  0.0%\b\b\b\b\b\b\b\b\b\b\b\b\b\b\b\b\b\b\b\b\bIteration 35...3701 pixels reassigned.\n",
      "Iteration 36...  0.0%\b\b\b\b\b\b\b\b\b\b\b\b\b\b\b\b\b\b\b\b\bIteration 36...3318 pixels reassigned.\n",
      "Iteration 37...  0.0%\b\b\b\b\b\b\b\b\b\b\b\b\b\b\b\b\b\b\b\b\bIteration 37...3141 pixels reassigned.\n",
      "Iteration 38...  0.0%\b\b\b\b\b\b\b\b\b\b\b\b\b\b\b\b\b\b\b\b\bIteration 38...3044 pixels reassigned.\n",
      "Iteration 39...  0.0%\b\b\b\b\b\b\b\b\b\b\b\b\b\b\b\b\b\b\b\b\bIteration 39...2840 pixels reassigned.\n",
      "Iteration 40...  0.0%\b\b\b\b\b\b\b\b\b\b\b\b\b\b\b\b\b\b\b\b\bIteration 40...2865 pixels reassigned.\n",
      "kmeans terminated with 15 clusters after 40 iterations.\n",
      "('classes shape ', (800, 1000))\n"
     ]
    }
   ],
   "source": [
    "\n",
    "import spectral\n",
    "\n",
    "\n",
    "proc_data=in_data[:,:,np.newaxis]\n",
    "\n",
    "print( \"proc_data shape\", proc_data.shape )\n",
    "classes, centres = spectral.kmeans(proc_data, 15, 40)\n",
    "print(\"classes shape \", classes.shape)\n",
    "plt.figure(10)\n",
    "plt.imshow(classes, cmap = \"nipy_spectral\")\n",
    "plt.figure(11)\n",
    "plt.imshow(in_data, cmap = \"nipy_spectral\" )\n",
    "plt.show(block=False)"
   ]
  },
  {
   "cell_type": "code",
   "execution_count": 165,
   "metadata": {
    "collapsed": false
   },
   "outputs": [
    {
     "name": "stdout",
     "output_type": "stream",
     "text": [
      "('mode block time ', 70.68977093696594)\n",
      "('mode_data shape', (80, 100, 10, 1))\n"
     ]
    }
   ],
   "source": [
    "# downsample to make problem more tractable\n",
    "\n",
    "\n",
    "def mode_win(data,axis):\n",
    "    return scipy.stats.mstats.mode(data,axis)[0]\n",
    "\n",
    "from skimage.measure import block_reduce\n",
    "tic = time.time()\n",
    "#mode_data = scipy.ndimage.filters.generic_filter(classes, mode_win, size = 11)\n",
    "mode_data = block_reduce(classes, block_size=(10,10), func = mode_win )\n",
    "toc = time.time()\n",
    "print(\"mode block time \",toc-tic)\n",
    "print(\"mode_data shape\", mode_data.shape)"
   ]
  },
  {
   "cell_type": "code",
   "execution_count": 170,
   "metadata": {
    "collapsed": false
   },
   "outputs": [],
   "source": [
    "\n",
    "plt.figure(13)\n",
    "plt.imshow(mode_data[:,:,0,0], cmap = \"nipy_spectral\")\n",
    "plt.show(block=False)"
   ]
  },
  {
   "cell_type": "code",
   "execution_count": 210,
   "metadata": {
    "collapsed": false
   },
   "outputs": [
    {
     "name": "stdout",
     "output_type": "stream",
     "text": [
      "('number of regions ', 565)\n"
     ]
    }
   ],
   "source": [
    "# region labeling with scikit\n",
    "label_image, rnum = skimage.measure.label(mode_data[:,:,0,0],connectivity=2,return_num=True)\n",
    "print(\"number of regions \", rnum)\n",
    "plt.figure(113)\n",
    "plt.imshow(label_image, cmap = \"prism\")\n",
    "plt.show(block=False)"
   ]
  },
  {
   "cell_type": "code",
   "execution_count": 211,
   "metadata": {
    "collapsed": false
   },
   "outputs": [
    {
     "name": "stdout",
     "output_type": "stream",
     "text": [
      "properties calc time 0.0110669136047 for 565 regions \n",
      "size of properties 565\n",
      "(60.0, 54.0)\n"
     ]
    }
   ],
   "source": [
    "tic = time.time()\n",
    "properties = skimage.measure.regionprops(label_image)\n",
    "toc = time.time()\n",
    "print(\"properties calc time {} for {} regions \".format(toc-tic,rnum))\n",
    "print(\"size of properties {}\".format(len(properties)))\n",
    "print(properties[500].centroid)"
   ]
  },
  {
   "cell_type": "code",
   "execution_count": 213,
   "metadata": {
    "collapsed": false
   },
   "outputs": [],
   "source": [
    "plt.figure(114)\n",
    "plt.imshow(label_image, cmap = \"prism\")\n",
    "\n",
    "for ri in range(len(properties)):\n",
    "    plt.scatter(x=properties[ri].centroid[1],y=properties[ri].centroid[0],c='k',s=10)\n",
    "plt.show(block=False)\n",
    "    "
   ]
  },
  {
   "cell_type": "code",
   "execution_count": null,
   "metadata": {
    "collapsed": true
   },
   "outputs": [],
   "source": [
    "# assemble generalised TSP\n",
    "\n",
    "\n",
    "# solve GTSP\n",
    "\n"
   ]
  },
  {
   "cell_type": "code",
   "execution_count": 17,
   "metadata": {
    "collapsed": false
   },
   "outputs": [],
   "source": [
    "# fit plane to DEM in a local window\n",
    "# a faster option would precompute matrix M as a function of the window size\n",
    "# and pass it as an argument\n",
    "# to return two values, could try using complex number\n",
    "\n",
    "def fit_plane_local_multioutput(data, cell_width, cell_height,outlist):\n",
    "\n",
    "    # figure out size of window\n",
    "    npoints = data.size\n",
    "    dim = int(np.sqrt(npoints))\n",
    "    \n",
    "    \n",
    "    \n",
    "    M = np.ones((npoints,3))\n",
    "   \n",
    "    k = 0\n",
    "    for i in range(dim):\n",
    "        for j in range (dim):\n",
    "            M[k,:] = [j*cell_width, i*cell_height, 1]\n",
    "    #        Z[k] = data[k]\n",
    "            k+=1\n",
    "  \n",
    "    a,b,c = np.linalg.lstsq(M,data)[0]\n",
    "   \n",
    "    aspect = np.arctan2(b,a)*180/np.pi\n",
    "    #outvec.extend(aspect)\n",
    "    outlist.append(aspect)\n",
    "    slope = np.arctan(np.linalg.norm([a,b]))\n",
    "   \n",
    "   # slope = dim\n",
    "   # print(\"slope \",slope)\n",
    "    return slope"
   ]
  },
  {
   "cell_type": "code",
   "execution_count": null,
   "metadata": {
    "collapsed": true
   },
   "outputs": [],
   "source": []
  },
  {
   "cell_type": "code",
   "execution_count": 54,
   "metadata": {
    "collapsed": false
   },
   "outputs": [],
   "source": [
    "plt.figure(1)\n",
    "plt.imshow(in_data)\n",
    "\n",
    "out_data = scipy.ndimage.filters.uniform_filter( in_data, size=3, mode='nearest')\n",
    "plt.figure(2)\n",
    "plt.imshow(out_data)\n",
    "plt.draw()\n",
    "#plt.show()\n",
    "#pb.make_raster(in_ds, out_fn, out_data, gdal.GDT_Int32) del in_ds"
   ]
  },
  {
   "cell_type": "code",
   "execution_count": null,
   "metadata": {
    "collapsed": true
   },
   "outputs": [],
   "source": []
  },
  {
   "cell_type": "code",
   "execution_count": 11,
   "metadata": {
    "collapsed": false
   },
   "outputs": [
    {
     "name": "stdout",
     "output_type": "stream",
     "text": [
      "('size of slope3 ', 300000)\n",
      "('cell height ', -4.9997952662983325)\n"
     ]
    },
    {
     "data": {
      "text/plain": [
       "<matplotlib.image.AxesImage at 0x1132be250>"
      ]
     },
     "execution_count": 11,
     "metadata": {},
     "output_type": "execute_result"
    }
   ],
   "source": [
    "slope3 = scipy.ndimage.filters.generic_filter(in_data, slope, size=3, mode='nearest', extra_arguments=(\n",
    "        cell_width, cell_height))\n",
    "print(\"size of slope3 \",slope3.size)\n",
    "print(\"cell height \",cell_height)\n",
    "plt.figure(3)\n",
    "plt.imshow(slope3)\n",
    "plt.draw()"
   ]
  },
  {
   "cell_type": "code",
   "execution_count": 39,
   "metadata": {
    "collapsed": false
   },
   "outputs": [
    {
     "name": "stdout",
     "output_type": "stream",
     "text": [
      "('size of area3 ', 300000)\n",
      "('cell height ', -4.9997952662983325)\n"
     ]
    }
   ],
   "source": [
    "area3 = scipy.ndimage.filters.generic_filter(in_data, area3D, size=3, mode='nearest', extra_arguments=(\n",
    "        cell_width, cell_height))\n",
    "print(\"size of area3 \",area3.size)\n",
    "print(\"cell height \",cell_height)\n",
    "plt.figure(4)\n",
    "plt.imshow(area3)\n",
    "plt.draw()"
   ]
  },
  {
   "cell_type": "code",
   "execution_count": 19,
   "metadata": {
    "collapsed": false
   },
   "outputs": [
    {
     "name": "stdout",
     "output_type": "stream",
     "text": [
      "('size of area3 ', 300000)\n",
      "('ellapsed time ', 3.2434260845184326)\n",
      "('cell height ', -4.9997952662983325)\n"
     ]
    }
   ],
   "source": [
    "tic = time.time()\n",
    "\n",
    "slope_plane = scipy.ndimage.filters.generic_filter(in_data, fit_plane_local_M, size=3, mode='nearest', extra_arguments=(\n",
    "        cell_width, cell_height, Pinv))\n",
    "toc = time.time()\n",
    "print(\"size of area3 \", slope_plane.size)\n",
    "print(\"ellapsed time \", toc-tic)\n",
    "print(\"cell height \",cell_height)\n",
    "plt.figure(5)\n",
    "plt.imshow(abs(slope_plane)*180/np.pi)\n",
    "plt.draw()\n",
    "plt.show()"
   ]
  },
  {
   "cell_type": "code",
   "execution_count": 31,
   "metadata": {
    "collapsed": false
   },
   "outputs": [],
   "source": [
    "plt.figure(7)\n",
    "plt.imshow(slope_plane.imag)\n",
    "plt.draw()\n",
    "plt.figure(8)\n",
    "plt.imshow(slope_plane.real)\n",
    "plt.draw()\n",
    "plt.show()"
   ]
  },
  {
   "cell_type": "code",
   "execution_count": 20,
   "metadata": {
    "collapsed": false
   },
   "outputs": [
    {
     "name": "stdout",
     "output_type": "stream",
     "text": [
      "('length of outvec', 300000)\n",
      "('shape of area3 ', (500, 600))\n",
      "('ellapsed time ', 357.0875198841095)\n",
      "('cell height ', -4.9997952662983325)\n"
     ]
    }
   ],
   "source": [
    "outlist = []\n",
    "tic = time.time()\n",
    "slope_plane = scipy.ndimage.filters.generic_filter(in_data, fit_plane_local_multioutput, size=3, mode='nearest', extra_arguments=(\n",
    "        cell_width, cell_height,outlist))\n",
    "toc = time.time()\n",
    "print(\"length of outvec\", len(outlist))\n",
    "print(\"shape of area3 \", slope_plane.shape)\n",
    "print(\"ellapsed time \", toc-tic)\n",
    "print(\"cell height \",cell_height)\n",
    "plt.figure(5)\n",
    "plt.imshow(slope_plane)\n",
    "plt.draw()\n",
    "\n"
   ]
  },
  {
   "cell_type": "code",
   "execution_count": 24,
   "metadata": {
    "collapsed": false
   },
   "outputs": [
    {
     "name": "stdout",
     "output_type": "stream",
     "text": [
      "(500, 600)\n"
     ]
    },
    {
     "ename": "KeyboardInterrupt",
     "evalue": "",
     "output_type": "error",
     "traceback": [
      "\u001b[0;31m---------------------------------------------------------------------------\u001b[0m",
      "\u001b[0;31mKeyboardInterrupt\u001b[0m                         Traceback (most recent call last)",
      "\u001b[0;32m/usr/local/lib/python2.7/site-packages/matplotlib/backends/backend_macosx.pyc\u001b[0m in \u001b[0;36mclose\u001b[0;34m(self)\u001b[0m\n\u001b[1;32m    197\u001b[0m             \u001b[0mself\u001b[0m\u001b[0;34m.\u001b[0m\u001b[0mcanvas\u001b[0m\u001b[0;34m.\u001b[0m\u001b[0mdraw_idle\u001b[0m\u001b[0;34m(\u001b[0m\u001b[0;34m)\u001b[0m\u001b[0;34m\u001b[0m\u001b[0m\n\u001b[1;32m    198\u001b[0m \u001b[0;34m\u001b[0m\u001b[0m\n\u001b[0;32m--> 199\u001b[0;31m     \u001b[0;32mdef\u001b[0m \u001b[0mclose\u001b[0m\u001b[0;34m(\u001b[0m\u001b[0mself\u001b[0m\u001b[0;34m)\u001b[0m\u001b[0;34m:\u001b[0m\u001b[0;34m\u001b[0m\u001b[0m\n\u001b[0m\u001b[1;32m    200\u001b[0m         \u001b[0mGcf\u001b[0m\u001b[0;34m.\u001b[0m\u001b[0mdestroy\u001b[0m\u001b[0;34m(\u001b[0m\u001b[0mself\u001b[0m\u001b[0;34m.\u001b[0m\u001b[0mnum\u001b[0m\u001b[0;34m)\u001b[0m\u001b[0;34m\u001b[0m\u001b[0m\n\u001b[1;32m    201\u001b[0m \u001b[0;34m\u001b[0m\u001b[0m\n",
      "\u001b[0;31mKeyboardInterrupt\u001b[0m: "
     ]
    }
   ],
   "source": [
    "outmat = np.array(outlist).reshape(slope_plane.shape);\n",
    "print(outmat.shape)\n",
    "\n",
    "plt.figure(5)\n",
    "plt.imshow(slope_plane)\n",
    "plt.draw()\n",
    "\n",
    "\n",
    "plt.figure(6)\n",
    "plt.imshow(outmat)\n",
    "plt.draw()\n",
    "plt.show()\n",
    "\n"
   ]
  },
  {
   "cell_type": "code",
   "execution_count": null,
   "metadata": {
    "collapsed": true
   },
   "outputs": [],
   "source": []
  }
 ],
 "metadata": {
  "kernelspec": {
   "display_name": "Python 2",
   "language": "python",
   "name": "python2"
  },
  "language_info": {
   "codemirror_mode": {
    "name": "ipython",
    "version": 2
   },
   "file_extension": ".py",
   "mimetype": "text/x-python",
   "name": "python",
   "nbconvert_exporter": "python",
   "pygments_lexer": "ipython2",
   "version": "2.7.14"
  }
 },
 "nbformat": 4,
 "nbformat_minor": 2
}
