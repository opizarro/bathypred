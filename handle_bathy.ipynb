{
 "cells": [
  {
   "cell_type": "code",
   "execution_count": 2,
   "metadata": {
    "collapsed": false
   },
   "outputs": [],
   "source": [
    "from osgeo import gdal\n",
    "import numpy as np\n",
    "import os\n",
    "import scipy.ndimage\n",
    "import scipy.stats\n",
    "import matplotlib.pyplot as plt\n",
    "import time\n",
    "import skimage.measure\n"
   ]
  },
  {
   "cell_type": "code",
   "execution_count": 3,
   "metadata": {
    "collapsed": false
   },
   "outputs": [],
   "source": [
    "def make_raster(in_ds, fn, data, data_type, nodata=None): \n",
    "    \"\"\"Create a one-band GeoTIFF.\n",
    "    in_ds     - datasource to copy projection and geotransform from\n",
    "    fn        - path to the file to create\n",
    "    data      - NumPy array containing data to write\n",
    "    data_type - output data type\n",
    "    nodata    - optional NoData value\n",
    "    \"\"\"\n",
    "    driver = gdal.GetDriverByName('GTiff')\n",
    "    out_ds = driver.Create(fn, in_ds.RasterXSize, in_ds.RasterYSize, 1, data_type)\n",
    "    out_ds.SetProjection(in_ds.GetProjection()) \n",
    "    out_ds.SetGeoTransform(in_ds.GetGeoTransform())\n",
    "    out_band = out_ds.GetRasterBand(1)\n",
    "    if nodata is not None:\n",
    "        out_band.SetNoDataValue(nodata)\n",
    "        out_band.WriteArray(data)\n",
    "        out_band.FlushCache()\n",
    "        out_band.ComputeStatistics(False)\n",
    "    return out_ds"
   ]
  },
  {
   "cell_type": "code",
   "execution_count": 4,
   "metadata": {
    "collapsed": true
   },
   "outputs": [],
   "source": [
    "# Write a function that calculates slope using a 3x3 window.\n",
    "# This will be passed to the SciPy filter function below.\n",
    "def slope(data, cell_width, cell_height):\n",
    "    \"\"\"Calculates slope using a 3x3 window.\n",
    "\n",
    "    data        - 1D array containing the 9 pixel values, starting\n",
    "                  in the upper left and going left to right and down\n",
    "    cell_width  - pixel width in the same units as the data\n",
    "    cell_height - pixel height in the same units as the data\n",
    "    \"\"\"\n",
    "    rise = ((data[6] + (2 * data[7]) + data[8]) - (data[0] + (2 * data[1]) + data[2])) / (8 * cell_height)\n",
    "    run =  ((data[2] + (2 * data[5]) + data[8]) - (data[0] + (2 * data[3]) + data[6])) / (8 * cell_width)\n",
    "    dist = np.sqrt(np.square(rise) + np.square(run))\n",
    "    return np.arctan(dist) * 180 / np.pi"
   ]
  },
  {
   "cell_type": "code",
   "execution_count": 5,
   "metadata": {
    "collapsed": false
   },
   "outputs": [],
   "source": [
    "# Write a function that calculates 3D area of DEM using a 3x3 window.\n",
    "# This will be passed to the SciPy filter function below.\n",
    "def area3D(data, cell_width, cell_height):\n",
    "    \"\"\"Calculates area per cell using a 3x3 window and a triangulated regular network.\n",
    "\n",
    "    data        - 1D array containing the 9 pixel values, starting\n",
    "                  in the upper left and going left to right and down\n",
    "    cell_width  - pixel width in the same units as the data\n",
    "    cell_height - pixel height in the same units as the data\n",
    "    \"\"\"\n",
    "    \n",
    "    xyz1 = np.array([0*cell_height,1*cell_width,data[1]])\n",
    "    xyz2 = np.array([0*cell_height,2*cell_width,data[2]])\n",
    "    xyz3 = np.array([1*cell_height,0*cell_width,data[3]])\n",
    "    xyz4 = np.array([1*cell_height,1*cell_width,data[4]])\n",
    "    xyz5 = np.array([1*cell_height,2*cell_width,data[5]])\n",
    "    xyz6 = np.array([2*cell_height,0*cell_width,data[6]])\n",
    "    xyz7 = np.array([2*cell_height,1*cell_width,data[7]])\n",
    "    \n",
    "    base12 = np.linalg.norm(xyz1 - xyz2)\n",
    "    base34 = np.linalg.norm(xyz3 - xyz4)\n",
    "    base45 = np.linalg.norm(xyz4 - xyz5)\n",
    "    base67 = np.linalg.norm(xyz6 - xyz7)\n",
    "    \n",
    "    height14 = np.linalg.norm(xyz1 - xyz4)\n",
    "    height25 = np.linalg.norm(xyz2 - xyz5)\n",
    "    height36 = np.linalg.norm(xyz3 - xyz6)\n",
    "    height47 = np.linalg.norm(xyz4 - xyz7)\n",
    "    \n",
    "    t124 = base12*height14/2\n",
    "    t134 = base34*height14/2\n",
    "    t245 = base45*height25/2\n",
    "    t346 = base34*height36/2\n",
    "    t457 = base45*height47/2\n",
    "    t467 = base67*height47/2\n",
    "    \n",
    "    area = 0.25*(t124+t245+t346+t467)+0.5*(t134+t457)\n",
    "    \n",
    "    return area"
   ]
  },
  {
   "cell_type": "code",
   "execution_count": 6,
   "metadata": {
    "collapsed": true
   },
   "outputs": [],
   "source": [
    "#in_fn = '/Users/opizarro/data/FK20180119/bathy/hawaii_bty_5m_Au_au_0-400m.tif' # low res version - not 5m\n",
    "in_fn = '/Users/opizarro/data/FK20180119/bathy/au_au_clipped_UTM_4N.tif'"
   ]
  },
  {
   "cell_type": "code",
   "execution_count": 7,
   "metadata": {
    "collapsed": false
   },
   "outputs": [
    {
     "name": "stdout",
     "output_type": "stream",
     "text": [
      "('cell height ', -4.9997952662983325)\n",
      "('input data shape ', (800, 1000))\n"
     ]
    }
   ],
   "source": [
    "# test section of input data\n",
    "in_ds = gdal.Open(in_fn)\n",
    "\n",
    "off_ulx = 3300\n",
    "off_uly = 2000\n",
    "columns = 1000\n",
    "rows = 800\n",
    "in_data = in_ds.GetRasterBand(1).ReadAsArray(off_ulx, off_uly, columns, rows)\n",
    "\n",
    "\n",
    "#cell_width = 5\n",
    "cell_width = in_ds.GetGeoTransform()[1]\n",
    "#cell_height = 5 \n",
    "cell_height = in_ds.GetGeoTransform()[5]\n",
    "print(\"cell height \",cell_height)\n",
    "print(\"input data shape \",in_data.shape)"
   ]
  },
  {
   "cell_type": "code",
   "execution_count": 8,
   "metadata": {
    "collapsed": false
   },
   "outputs": [],
   "source": [
    "# wrapper functon to allow for different window sizes\n",
    "\n",
    "\n",
    "        \n",
    "def fit_plane_local_a(data, cell_width, cell_height,Pinv):\n",
    "    \n",
    "    theta = np.dot(Pinv,data)\n",
    "    a = theta[0]\n",
    "    return a\n",
    "\n",
    "def fit_plane_local_b(data, cell_width, cell_height,Pinv):\n",
    "    \n",
    "    theta = np.dot(Pinv,data)\n",
    "    b = theta[1]\n",
    "    return b\n",
    "\n",
    "def fit_plane_window(in_data, win_size, cell_width, cell_height ):\n",
    "    \n",
    "    dim = win_size\n",
    "    npoints = dim**2\n",
    "    M = np.ones((npoints,3)) \n",
    "    k = 0\n",
    "    for i in range(dim):\n",
    "        for j in range(dim):\n",
    "            M[k,:] = [j*cell_width, i*cell_height, 1]\n",
    "            k+=1\n",
    "\n",
    "    Pinv = np.linalg.pinv(M)        \n",
    "\n",
    "    a = scipy.ndimage.filters.generic_filter(in_data, fit_plane_local_a, size=win_size, mode='nearest', extra_arguments=(\n",
    "        cell_width, cell_height, Pinv))\n",
    "    \n",
    "    b = scipy.ndimage.filters.generic_filter(in_data, fit_plane_local_b, size=win_size, mode='nearest', extra_arguments=(\n",
    "        cell_width, cell_height, Pinv))\n",
    "    \n",
    "    # plane equation is ax + by +c = z\n",
    "    # or a*(j*cw) + b*(i*ch) + c = z\n",
    "    slope = np.arctan(np.sqrt(np.square(a)+np.square(b)))*180/np.pi\n",
    "    aspect = np.arctan2(b,a)*180/np.pi\n",
    "    # area per horizontal unit area\n",
    "    areaphua = np.sqrt(np.square(a)+np.square(b)+np.ones(a.shape))\n",
    "    print(slope.shape)\n",
    "    print(aspect.shape)\n",
    "        \n",
    "    return (slope, aspect, areaphua, a, b)\n"
   ]
  },
  {
   "cell_type": "code",
   "execution_count": 9,
   "metadata": {
    "collapsed": false
   },
   "outputs": [
    {
     "name": "stdout",
     "output_type": "stream",
     "text": [
      "('shape of area3 ', (800, 1000))\n",
      "('ellapsed time ', 38.17685317993164)\n"
     ]
    }
   ],
   "source": [
    "# calculate 3D area per cell\n",
    "tic = time.time()\n",
    "area3 = scipy.ndimage.filters.generic_filter(in_data, area3D, size=3, mode='nearest', extra_arguments=(\n",
    "        cell_width, cell_height))\n",
    "toc = time.time()\n",
    "print(\"shape of area3 \",area3.shape)\n",
    "print(\"ellapsed time \",toc-tic)\n",
    "plt.figure(1)\n",
    "plt.imshow(area3)\n",
    "plt.draw()\n",
    "plt.show(block=False)\n"
   ]
  },
  {
   "cell_type": "code",
   "execution_count": 10,
   "metadata": {
    "collapsed": false
   },
   "outputs": [
    {
     "name": "stdout",
     "output_type": "stream",
     "text": [
      "('window size ', 3)\n",
      "(800, 1000)\n",
      "(800, 1000)\n",
      "('shape of slope ', (800, 1000))\n",
      "('ellapsed time ', 1.9843149185180664)\n",
      "('window size ', 5)\n",
      "(800, 1000)\n",
      "(800, 1000)\n",
      "('shape of slope ', (800, 1000))\n",
      "('ellapsed time ', 2.1659579277038574)\n",
      "('window size ', 7)\n",
      "(800, 1000)\n",
      "(800, 1000)\n",
      "('shape of slope ', (800, 1000))\n",
      "('ellapsed time ', 2.1493959426879883)\n",
      "('window size ', 9)\n",
      "(800, 1000)\n",
      "(800, 1000)\n",
      "('shape of slope ', (800, 1000))\n",
      "('ellapsed time ', 2.2540881633758545)\n"
     ]
    }
   ],
   "source": [
    "scales = []\n",
    "feat = []\n",
    "for win_size in [3,5,7,9]:\n",
    "    print(\"window size \", win_size)\n",
    "    tic = time.time()\n",
    "    slope, aspect, areaphua, a, b = fit_plane_window(in_data, win_size, cell_width, cell_height)\n",
    "   \n",
    "    area3Dwin = scipy.ndimage.filters.uniform_filter(area3,win_size)\n",
    "    rugosity = np.divide(area3Dwin,areaphua*cell_width*cell_height)\n",
    "    \n",
    "    toc = time.time()\n",
    "    \n",
    "    scales.append((win_size,slope, aspect, rugosity, area3Dwin, areaphua, a, b))\n",
    "    \n",
    "    feat.append(slope)\n",
    "    feat.append(aspect)\n",
    "    feat.append(rugosity)\n",
    "    #feat.append(np.stack((slope, aspect, rugosity), axis=-1))\n",
    "    #print(\"feat shape \" ,np.stack((slope, aspect, rugosity), axis=-1).shape)\n",
    "    print(\"shape of slope \", slope.shape)\n",
    "    print(\"ellapsed time \", toc-tic)\n",
    "    plt.figure(win_size*5)\n",
    "    plt.imshow(slope)\n",
    "    plt.title('slope %s'%(win_size))\n",
    "    \n",
    "#    plt.figure(win_size*5+1)\n",
    "#    plt.imshow(aspect, cmap=\"hsv\")\n",
    "#    plt.title('aspect %s'%(win_size))\n",
    "    \n",
    "#    plt.figure(win_size*5+2)\n",
    "#    plt.imshow(rugosity)\n",
    "#    plt.title('rugosity %s'%(win_size))\n",
    "    \n",
    "#    plt.figure(win_size*5+3)\n",
    "#    plt.imshow(area3Dwin)\n",
    "#    plt.title('area3Dwin %s'%(win_size))\n",
    "    \n",
    "#    plt.figure(win_size*5+4)\n",
    "#    plt.imshow(areaphua)\n",
    "#    plt.title('areaphua %s'%(win_size))\n",
    "    \n",
    "    \n",
    "plt.show(block=False)\n",
    "\n",
    "# add depth data\n",
    "feat.append(in_data)\n",
    "# stack list in 3 dimensional array\n",
    "featstack = np.stack(feat,axis=-1)"
   ]
  },
  {
   "cell_type": "code",
   "execution_count": 11,
   "metadata": {
    "collapsed": false
   },
   "outputs": [
    {
     "name": "stdout",
     "output_type": "stream",
     "text": [
      "('feature stack shape ', (800, 1000, 13))\n"
     ]
    }
   ],
   "source": [
    "#print(\"in_data shape \",in_data.shape)\n",
    "#feat= []\n",
    "#feat.append(in_data)\n",
    "\n",
    "\n",
    "print(\"feature stack shape \",featstack.shape)\n",
    "\n",
    "plt.figure(5)\n",
    "nplots = featstack.shape[2]\n",
    "f, faxarr = plt.subplots(4,1)\n",
    "g, gaxarr = plt.subplots(4,1)\n",
    "h, haxarr = plt.subplots(4,1)\n",
    "\n",
    "\n",
    "for k in range(4):\n",
    "    faxarr[k].hist(featstack[:,:,3*k].flatten(),bins=50)\n",
    "    gaxarr[k].hist(featstack[:,:,3*k+1].flatten(),bins=50)\n",
    "    haxarr[k].hist(featstack[:,:,3*k+2].flatten(),bins=np.arange(0.9,1.5,0.02))\n",
    "\n",
    "plt.show(block=False)\n",
    "\n",
    "\n"
   ]
  },
  {
   "cell_type": "code",
   "execution_count": 12,
   "metadata": {
    "collapsed": false
   },
   "outputs": [
    {
     "name": "stdout",
     "output_type": "stream",
     "text": [
      "('proc_data shape', (800, 1000, 1))\n",
      "Initializing clusters along diagonal of N-dimensional bounding box.\n",
      "Iteration 1...  0.0%\b\b\b\b\b\b\b\b\b\b\b\b\b\b\b\b\b\b\b\bIteration 1...799999 pixels reassigned.\n",
      "Iteration 2...  0.0%\b\b\b\b\b\b\b\b\b\b\b\b\b\b\b\b\b\b\b\bIteration 2...55420 pixels reassigned.\n",
      "Iteration 3...  0.0%\b\b\b\b\b\b\b\b\b\b\b\b\b\b\b\b\b\b\b\bIteration 3...43625 pixels reassigned.\n",
      "Iteration 4...  0.0%\b\b\b\b\b\b\b\b\b\b\b\b\b\b\b\b\b\b\b\bIteration 4...36471 pixels reassigned.\n",
      "Iteration 5...  0.0%\b\b\b\b\b\b\b\b\b\b\b\b\b\b\b\b\b\b\b\bIteration 5...29847 pixels reassigned.\n",
      "Iteration 6...  0.0%\b\b\b\b\b\b\b\b\b\b\b\b\b\b\b\b\b\b\b\bIteration 6...23750 pixels reassigned.\n",
      "Iteration 7...  0.0%\b\b\b\b\b\b\b\b\b\b\b\b\b\b\b\b\b\b\b\bIteration 7...21999 pixels reassigned.\n",
      "Iteration 8...  0.0%\b\b\b\b\b\b\b\b\b\b\b\b\b\b\b\b\b\b\b\bIteration 8...19411 pixels reassigned.\n",
      "Iteration 9...  0.0%\b\b\b\b\b\b\b\b\b\b\b\b\b\b\b\b\b\b\b\bIteration 9...16075 pixels reassigned.\n",
      "Iteration 10...  0.0%\b\b\b\b\b\b\b\b\b\b\b\b\b\b\b\b\b\b\b\b\bIteration 10...13725 pixels reassigned.\n",
      "Iteration 11...  0.0%\b\b\b\b\b\b\b\b\b\b\b\b\b\b\b\b\b\b\b\b\bIteration 11...11603 pixels reassigned.\n",
      "Iteration 12...  0.0%\b\b\b\b\b\b\b\b\b\b\b\b\b\b\b\b\b\b\b\b\bIteration 12...10011 pixels reassigned.\n",
      "Iteration 13...  0.0%\b\b\b\b\b\b\b\b\b\b\b\b\b\b\b\b\b\b\b\b\bIteration 13...8217 pixels reassigned.\n",
      "Iteration 14...  0.0%\b\b\b\b\b\b\b\b\b\b\b\b\b\b\b\b\b\b\b\b\bIteration 14...7090 pixels reassigned.\n",
      "Iteration 15...  0.0%\b\b\b\b\b\b\b\b\b\b\b\b\b\b\b\b\b\b\b\b\bIteration 15...6461 pixels reassigned.\n",
      "Iteration 16...  0.0%\b\b\b\b\b\b\b\b\b\b\b\b\b\b\b\b\b\b\b\b\bIteration 16...5938 pixels reassigned.\n",
      "Iteration 17...  0.0%\b\b\b\b\b\b\b\b\b\b\b\b\b\b\b\b\b\b\b\b\bIteration 17...5480 pixels reassigned.\n",
      "Iteration 18...  0.0%\b\b\b\b\b\b\b\b\b\b\b\b\b\b\b\b\b\b\b\b\bIteration 18...4983 pixels reassigned.\n",
      "Iteration 19...  0.0%\b\b\b\b\b\b\b\b\b\b\b\b\b\b\b\b\b\b\b\b\bIteration 19...4726 pixels reassigned.\n",
      "Iteration 20...  0.0%\b\b\b\b\b\b\b\b\b\b\b\b\b\b\b\b\b\b\b\b\bIteration 20...4752 pixels reassigned.\n",
      "Iteration 21...  0.0%\b\b\b\b\b\b\b\b\b\b\b\b\b\b\b\b\b\b\b\b\bIteration 21...5724 pixels reassigned.\n",
      "Iteration 22...  0.0%\b\b\b\b\b\b\b\b\b\b\b\b\b\b\b\b\b\b\b\b\bIteration 22...7289 pixels reassigned.\n",
      "Iteration 23...  0.0%\b\b\b\b\b\b\b\b\b\b\b\b\b\b\b\b\b\b\b\b\bIteration 23...7060 pixels reassigned.\n",
      "Iteration 24...  0.0%\b\b\b\b\b\b\b\b\b\b\b\b\b\b\b\b\b\b\b\b\bIteration 24...6272 pixels reassigned.\n",
      "Iteration 25...  0.0%\b\b\b\b\b\b\b\b\b\b\b\b\b\b\b\b\b\b\b\b\bIteration 25...5775 pixels reassigned.\n",
      "Iteration 26...  0.0%\b\b\b\b\b\b\b\b\b\b\b\b\b\b\b\b\b\b\b\b\bIteration 26...5331 pixels reassigned.\n",
      "Iteration 27...  0.0%\b\b\b\b\b\b\b\b\b\b\b\b\b\b\b\b\b\b\b\b\bIteration 27...5625 pixels reassigned.\n",
      "Iteration 28...  0.0%\b\b\b\b\b\b\b\b\b\b\b\b\b\b\b\b\b\b\b\b\bIteration 28...5363 pixels reassigned.\n",
      "Iteration 29...  0.0%\b\b\b\b\b\b\b\b\b\b\b\b\b\b\b\b\b\b\b\b\bIteration 29...5115 pixels reassigned.\n",
      "Iteration 30...  0.0%\b\b\b\b\b\b\b\b\b\b\b\b\b\b\b\b\b\b\b\b\bIteration 30...4860 pixels reassigned.\n",
      "Iteration 31...  0.0%\b\b\b\b\b\b\b\b\b\b\b\b\b\b\b\b\b\b\b\b\bIteration 31...4568 pixels reassigned.\n",
      "Iteration 32...  0.0%\b\b\b\b\b\b\b\b\b\b\b\b\b\b\b\b\b\b\b\b\bIteration 32...4315 pixels reassigned.\n",
      "Iteration 33...  0.0%\b\b\b\b\b\b\b\b\b\b\b\b\b\b\b\b\b\b\b\b\bIteration 33...4181 pixels reassigned.\n",
      "Iteration 34...  0.0%\b\b\b\b\b\b\b\b\b\b\b\b\b\b\b\b\b\b\b\b\bIteration 34...3961 pixels reassigned.\n",
      "Iteration 35...  0.0%\b\b\b\b\b\b\b\b\b\b\b\b\b\b\b\b\b\b\b\b\bIteration 35...3701 pixels reassigned.\n",
      "Iteration 36...  0.0%\b\b\b\b\b\b\b\b\b\b\b\b\b\b\b\b\b\b\b\b\bIteration 36...3318 pixels reassigned.\n",
      "Iteration 37...  0.0%\b\b\b\b\b\b\b\b\b\b\b\b\b\b\b\b\b\b\b\b\bIteration 37...3141 pixels reassigned.\n",
      "Iteration 38...  0.0%\b\b\b\b\b\b\b\b\b\b\b\b\b\b\b\b\b\b\b\b\bIteration 38...3044 pixels reassigned.\n",
      "Iteration 39...  0.0%\b\b\b\b\b\b\b\b\b\b\b\b\b\b\b\b\b\b\b\b\bIteration 39...2840 pixels reassigned.\n",
      "Iteration 40...  0.0%\b\b\b\b\b\b\b\b\b\b\b\b\b\b\b\b\b\b\b\b\bIteration 40...2865 pixels reassigned.\n",
      "kmeans terminated with 15 clusters after 40 iterations.\n",
      "('classes shape ', (800, 1000))\n"
     ]
    }
   ],
   "source": [
    "\n",
    "import spectral\n",
    "\n",
    "# test on just depth data\n",
    "proc_data=in_data[:,:,np.newaxis]\n",
    "\n",
    "print( \"proc_data shape\", proc_data.shape )\n",
    "num_clusters = 15\n",
    "classes, centres = spectral.kmeans(proc_data, num_clusters, 40)\n",
    "print(\"classes shape \", classes.shape)\n",
    "plt.figure(10)\n",
    "plt.imshow(classes, cmap = \"nipy_spectral\")\n",
    "plt.figure(11)\n",
    "plt.imshow(in_data, cmap = \"nipy_spectral\" )\n",
    "plt.show(block=False)"
   ]
  },
  {
   "cell_type": "code",
   "execution_count": 13,
   "metadata": {
    "collapsed": false
   },
   "outputs": [
    {
     "name": "stdout",
     "output_type": "stream",
     "text": [
      "('mode block time ', 18.314656972885132)\n",
      "('mode_data shape', (80, 100, 10, 1))\n"
     ]
    }
   ],
   "source": [
    "# downsample to make problem more tractable\n",
    "\n",
    "\n",
    "def mode_win(data,axis):\n",
    "    return scipy.stats.mstats.mode(data,axis)[0]\n",
    "\n",
    "from skimage.measure import block_reduce\n",
    "tic = time.time()\n",
    "#mode_data = scipy.ndimage.filters.generic_filter(classes, mode_win, size = 11)\n",
    "mode_data = block_reduce(classes, block_size=(10,10), func = mode_win )\n",
    "toc = time.time()\n",
    "print(\"mode block time \",toc-tic)\n",
    "print(\"mode_data shape\", mode_data.shape)"
   ]
  },
  {
   "cell_type": "code",
   "execution_count": 14,
   "metadata": {
    "collapsed": false
   },
   "outputs": [],
   "source": [
    "\n",
    "plt.figure(13)\n",
    "plt.imshow(mode_data[:,:,0,0], cmap = \"nipy_spectral\")\n",
    "plt.show(block=False)"
   ]
  },
  {
   "cell_type": "code",
   "execution_count": 15,
   "metadata": {
    "collapsed": false
   },
   "outputs": [
    {
     "name": "stdout",
     "output_type": "stream",
     "text": [
      "('number of regions ', 565)\n"
     ]
    }
   ],
   "source": [
    "# region labeling with scikit\n",
    "label_image, rnum = skimage.measure.label(mode_data[:,:,0,0],connectivity=2,return_num=True)\n",
    "print(\"number of regions \", rnum)\n",
    "plt.figure(113)\n",
    "plt.imshow(label_image, cmap = \"prism\")\n",
    "plt.show(block=False)"
   ]
  },
  {
   "cell_type": "code",
   "execution_count": 16,
   "metadata": {
    "collapsed": false
   },
   "outputs": [
    {
     "name": "stdout",
     "output_type": "stream",
     "text": [
      "properties calc time 0.00438499450684 for 565 regions \n",
      "size of properties 565\n",
      "(60.0, 54.0)\n"
     ]
    }
   ],
   "source": [
    " \n",
    "tic = time.time()\n",
    "properties = skimage.measure.regionprops(label_image,mode_data[:,:,0,0])\n",
    "toc = time.time()\n",
    "print(\"properties calc time {} for {} regions \".format(toc-tic,rnum))\n",
    "print(\"size of properties {}\".format(len(properties)))\n",
    "print(properties[500].centroid)"
   ]
  },
  {
   "cell_type": "code",
   "execution_count": 17,
   "metadata": {
    "collapsed": false
   },
   "outputs": [],
   "source": [
    "# plot centroids and create a list with cluster_ids for each region\n",
    "\n",
    "plt.figure(114)\n",
    "plt.imshow(label_image, cmap = \"prism\")\n",
    "label_list = []\n",
    "clusterid_list = []\n",
    "\n",
    "for ri in range(len(properties)):\n",
    "    plt.scatter(x=properties[ri].centroid[1],y=properties[ri].centroid[0],c='k',s=10)\n",
    "    label_list.append(properties[ri].label)\n",
    "    clusterid_list.append(int(properties[ri].mean_intensity))\n",
    "plt.show(block=False)\n",
    "    "
   ]
  },
  {
   "cell_type": "code",
   "execution_count": 18,
   "metadata": {
    "collapsed": false
   },
   "outputs": [],
   "source": [
    "# generate distance matrix\n",
    "Dmat = np.zeros((len(properties),len(properties)))\n",
    "for i in range(len(properties)):\n",
    "    for j in range(len(properties)):\n",
    "        Dmat[i,j]=np.linalg.norm(np.array(properties[i].centroid)-np.array(properties[j].centroid))\n",
    "        "
   ]
  },
  {
   "cell_type": "code",
   "execution_count": 19,
   "metadata": {
    "collapsed": false
   },
   "outputs": [
    {
     "name": "stdout",
     "output_type": "stream",
     "text": [
      "[ 1.5  -0.25]\n",
      "1.52069063257\n"
     ]
    }
   ],
   "source": [
    "from ortools.constraint_solver import pywrapcp\n",
    "# You need to import routing_enums_pb2 after pywrapcp!\n",
    "from ortools.constraint_solver import routing_enums_pb2\n",
    "\n",
    "print(np.array(properties[0].centroid)-np.array(properties[1].centroid))\n",
    "print(np.linalg.norm(np.array(properties[0].centroid)-np.array(properties[1].centroid)))\n",
    "\n",
    "def Distance_slow(i, j):\n",
    "    global properties\n",
    "    return np.linalg.norm((np.array(properties[i].centroid)-np.array(properties[j].centroid)))\n",
    "\n",
    "def Distance(i,j):\n",
    "    global Dmat\n",
    "    global depot\n",
    "    if i == depot or j == depot:\n",
    "        d = 0\n",
    "    else:\n",
    "        d = Dmat[i,j]\n",
    "    return d"
   ]
  },
  {
   "cell_type": "code",
   "execution_count": 20,
   "metadata": {
    "collapsed": false
   },
   "outputs": [
    {
     "name": "stdout",
     "output_type": "stream",
     "text": [
      "('tsp_size', 566)\n"
     ]
    }
   ],
   "source": [
    "# assemble generalised TSP\n",
    "\n",
    "tsp_size = rnum+1 # num of locations plus one for dummy depot node\n",
    "print(\"tsp_size\", tsp_size)\n",
    "num_vehicles = 1\n",
    "depot = tsp_size-1 # last node is a dummy node\n",
    "routing = pywrapcp.RoutingModel(tsp_size, num_vehicles, depot)\n",
    "\n",
    "search_parameters = pywrapcp.RoutingModel.DefaultSearchParameters()\n",
    "    # Setting first solution heuristic (cheapest addition).\n",
    "search_parameters.first_solution_strategy = (routing_enums_pb2.FirstSolutionStrategy.PATH_CHEAPEST_ARC)\n",
    "\n",
    "    # Setting the cost function.\n",
    "    # Put a callback to the distance accessor here. The callback takes two\n",
    "    # arguments (the from and to node inidices) and returns the distance between\n",
    "    # these nodes\n",
    "routing.SetArcCostEvaluatorOfAllVehicles(Distance)"
   ]
  },
  {
   "cell_type": "code",
   "execution_count": 21,
   "metadata": {
    "collapsed": false
   },
   "outputs": [
    {
     "name": "stdout",
     "output_type": "stream",
     "text": [
      "('max cluster_modes ', 14)\n",
      "('length cluster_modes ', 565)\n",
      "[ 6  8  9 10  8  6  5  6  8  9 12 10  9 11 12  9  8  6  5  4  5  6  5  7  8\n",
      "  7  9 10  9 11  5  9  7  7 11  7  7  7  8 13 11  8  9  8  7  7 11  7  7  7\n",
      "  5  6  4  6  8  6  7  6  9  9  8  7  8 10  3  3 11 10 11  5  5  7  9  9  5\n",
      "  3  6  4  7 11  5  6  7  8  6  5  7  7  8  9  8 11  5  6  9 10  8  7 11 12\n",
      "  9  6  1  2  8  7  6  8  9 11 10  5  7  9  6  3  7  8  6 10  7  8  5  2  1\n",
      "  2  5  6  9  9 10 10  7  5  5  2  4  5  6  7  4  5 11  2  1  8  6  6  8  6\n",
      "  3  8  2  7  9 10 10  7  5  4  2  4  7  5  8  2  9  3  8  4  8 11  6  4  8\n",
      " 10  7  7  1  2  7  9 10  8  4  5  4  7  8  4  4  5  6  8 10  5  6  8  7  6\n",
      " 12 10  9  6  5  6  7  9  9 11  9  8  6  5  7 11  9  7  6  7  8  9 12  9 10\n",
      "  4  9  9  7 10  8 12 11  7 10  8 12  8 11 12 11  9  7 11 13 10 10  8 12 12\n",
      " 10 12 13 13 14 13 11 10 12 10  9 10 10 10 12 13 13 14 11 12 10 11 12 12 13\n",
      "  9 13 12 13 12 13 13 12 12 10 11 12 13 13 12 13 13 12 13 11 12 10 11 12 12\n",
      " 13 11 13 13 11 10 11 12 11 12 12 13 13 11 10 12 12 10 11 13 11 12 11 13 12\n",
      " 10  9  8  9 11 10  9 10 11 12 13 12 14 12 11 10 11 12 11 13 12 11  9  7 10\n",
      " 12  9  8 13 12 11 12 11 12 13 13 11 12 13 14 13 11  8 14 12 14 13 13 14 13\n",
      " 12 10  6 10 12 14 14 13 11 11 12 13 14 13 12 12 10 10 13 11 12  6 11 13 12\n",
      " 10  7  9 10 13 14 13 13 14 11 12 13 14 12 11 13 12 13 13 10 11 12 11 12 14\n",
      " 13 13 14 10 13 13 12  9 11 12 12 11 10 11 11 13 12 13 13 10  9 13  9 13 11\n",
      " 13 14 12 13 13 13 10  7 10 12  9 10 14 12  9  7  8 12 11 11 12 13 13 10  8\n",
      " 10 13 10 11 12  8 10 13 12 11 11 12 11 13 12  9 12 13 12 12 13 12 11  9 13\n",
      " 12 10 13 10 10 11 13  9 14 10 12  9  9 11 13 12  8 14 10 14 11 13  9  8 10\n",
      "  7 14 12 11 12  9 12 12 12 12 13 12 10 12 13 12  7 13  8 12 10 14 12 10 12\n",
      " 13 11 11 12 14 13  9 12 12 12 10 14 11  9  7]\n",
      "(array([], dtype=int64),)\n",
      "('no nodes for clusterid ', 0)\n",
      "(array([102, 124, 144, 178]),)\n",
      "('cluster ', 1)\n",
      "('length ', 4)\n",
      "('max id', 178)\n",
      "(array([103, 123, 125, 135, 143, 152, 160, 165, 179]),)\n",
      "('cluster ', 2)\n",
      "('length ', 9)\n",
      "('max id', 179)\n",
      "(array([ 64,  65,  75, 115, 150, 167]),)\n",
      "('cluster ', 3)\n",
      "('length ', 6)\n",
      "('max id', 167)\n",
      "(array([ 19,  52,  77, 136, 140, 159, 161, 169, 173, 184, 186, 189, 190, 225]),)\n",
      "('cluster ', 4)\n",
      "('length ', 14)\n",
      "('max id', 225)\n",
      "(array([  6,  18,  20,  22,  30,  50,  69,  70,  74,  80,  85,  92, 111,\n",
      "       122, 126, 133, 134, 137, 141, 158, 163, 185, 191, 195, 204, 213]),)\n",
      "('cluster ', 5)\n",
      "('length ', 26)\n",
      "('max id', 213)\n",
      "(array([  0,   5,   7,  17,  21,  51,  53,  55,  57,  76,  81,  84,  93,\n",
      "       101, 106, 114, 118, 127, 138, 146, 147, 149, 172, 192, 196, 199,\n",
      "       203, 205, 212, 218, 377, 396]),)\n",
      "('cluster ', 6)\n",
      "('length ', 32)\n",
      "('max id', 396)\n",
      "(array([ 23,  25,  32,  33,  35,  36,  37,  44,  45,  47,  48,  49,  56,\n",
      "        61,  71,  78,  82,  86,  87,  97, 105, 112, 116, 120, 132, 139,\n",
      "       153, 157, 162, 176, 177, 180, 187, 198, 206, 214, 217, 219, 228,\n",
      "       233, 242, 348, 401, 457, 465, 525, 541, 564]),)\n",
      "('cluster ', 7)\n",
      "('length ', 48)\n",
      "('max id', 564)\n",
      "(array([  1,   4,   8,  16,  24,  38,  41,  43,  54,  60,  62,  83,  88,\n",
      "        90,  96, 104, 107, 117, 121, 145, 148, 151, 164, 168, 170, 174,\n",
      "       183, 188, 193, 197, 211, 220, 230, 235, 237, 247, 327, 352, 367,\n",
      "       466, 474, 480, 516, 523, 543]),)\n",
      "('cluster ', 8)\n",
      "('length ', 45)\n",
      "('max id', 543)\n",
      "(array([  2,   9,  12,  15,  26,  28,  31,  42,  58,  59,  72,  73,  89,\n",
      "        94, 100, 108, 113, 128, 129, 154, 166, 181, 202, 207, 208, 210,\n",
      "       216, 221, 223, 226, 227, 241, 260, 275, 326, 328, 331, 347, 351,\n",
      "       402, 432, 445, 447, 460, 464, 490, 498, 507, 511, 512, 522, 530,\n",
      "       556, 563]),)\n",
      "('cluster ', 9)\n",
      "('length ', 54)\n",
      "('max id', 563)\n",
      "(array([  3,  11,  27,  63,  67,  95, 110, 119, 130, 131, 155, 156, 175,\n",
      "       182, 194, 201, 224, 229, 234, 245, 246, 250, 257, 259, 261, 262,\n",
      "       263, 270, 284, 296, 305, 314, 317, 325, 330, 332, 340, 349, 376,\n",
      "       378, 391, 392, 400, 403, 419, 428, 437, 444, 456, 458, 461, 473,\n",
      "       475, 477, 481, 501, 503, 504, 509, 518, 524, 537, 545, 548, 560]),)\n",
      "('cluster ', 10)\n",
      "('length ', 65)\n",
      "('max id', 560)\n",
      "(array([ 13,  29,  34,  40,  46,  66,  68,  79,  91,  98, 109, 142, 171,\n",
      "       209, 215, 232, 238, 240, 243, 256, 268, 271, 285, 294, 297, 301,\n",
      "       304, 306, 308, 313, 318, 320, 322, 329, 333, 339, 341, 343, 346,\n",
      "       355, 357, 361, 366, 383, 384, 394, 397, 409, 414, 420, 422, 433,\n",
      "       436, 438, 439, 449, 468, 469, 478, 484, 485, 487, 497, 505, 513,\n",
      "       520, 528, 551, 552, 562]),)\n",
      "('cluster ', 11)\n",
      "('length ', 70)\n",
      "('max id', 562)\n",
      "(array([ 10,  14,  99, 200, 222, 231, 236, 239, 248, 249, 251, 258, 264,\n",
      "       269, 272, 273, 277, 279, 282, 283, 286, 289, 292, 295, 298, 299,\n",
      "       307, 309, 310, 315, 316, 321, 324, 334, 336, 338, 342, 345, 350,\n",
      "       354, 356, 358, 362, 369, 375, 379, 385, 389, 390, 395, 399, 410,\n",
      "       413, 416, 421, 423, 431, 434, 435, 441, 452, 459, 463, 467, 470,\n",
      "       479, 483, 486, 489, 491, 493, 494, 496, 500, 510, 515, 527, 529,\n",
      "       531, 532, 533, 534, 536, 538, 540, 544, 547, 549, 553, 557, 558, 559]),)\n",
      "('cluster ', 12)\n",
      "('length ', 92)\n",
      "('max id', 559)\n",
      "(array([ 39, 244, 252, 253, 255, 265, 266, 274, 276, 278, 280, 281, 287,\n",
      "       288, 290, 291, 293, 300, 302, 303, 311, 312, 319, 323, 335, 344,\n",
      "       353, 359, 360, 363, 365, 371, 372, 374, 382, 386, 388, 393, 398,\n",
      "       404, 406, 407, 411, 415, 417, 418, 425, 426, 429, 430, 440, 442,\n",
      "       443, 446, 448, 450, 453, 454, 455, 471, 472, 476, 482, 488, 492,\n",
      "       495, 499, 502, 506, 514, 521, 535, 539, 542, 550, 555]),)\n",
      "('cluster ', 13)\n",
      "('length ', 76)\n",
      "('max id', 555)\n",
      "(array([254, 267, 337, 364, 368, 370, 373, 380, 381, 387, 405, 408, 412,\n",
      "       424, 427, 451, 462, 508, 517, 519, 526, 546, 554, 561]),)\n",
      "('cluster ', 14)\n",
      "('length ', 24)\n",
      "('max id', 561)\n"
     ]
    }
   ],
   "source": [
    "# disjunctions based on cluster ID \n",
    "# np.where expects an np array\n",
    "cluster_modes = np.array(clusterid_list)\n",
    "print(\"max cluster_modes \", max(cluster_modes))\n",
    "print(\"length cluster_modes \",len(cluster_modes))\n",
    "#print(np.where(cluster_modes==5))\n",
    "#nodes = np.where(cluster_modes ==5)\n",
    "#print(nodes)\n",
    "\n",
    "#print(list(nodes[0]))\n",
    "#print(nodes[0])\n",
    "print(cluster_modes)\n",
    "for i in range(num_clusters):\n",
    "    #np.where returns a tuple with an np array as the first element and AddDisjunction expects a list\n",
    "    nodes = list(np.where(cluster_modes == i)[0])\n",
    "    # remove depot node (typicall 0) (as default depo)\n",
    "    if depot in nodes:\n",
    "        nodes.remove(depot)\n",
    "        print(\"removed depot node \",depot)\n",
    "    print(np.where(cluster_modes == i))\n",
    "    if (len(nodes) > 0):\n",
    "        routing.AddDisjunction(nodes)\n",
    "        print(\"cluster \", i)\n",
    "        print(\"length \",len(nodes))\n",
    "        print(\"max id\", max(nodes))\n",
    "    else:\n",
    "        print(\"no nodes for clusterid \",i)\n",
    "    \n",
    "  "
   ]
  },
  {
   "cell_type": "code",
   "execution_count": 42,
   "metadata": {
    "collapsed": false
   },
   "outputs": [
    {
     "name": "stdout",
     "output_type": "stream",
     "text": [
      "('solving tsp time ', 0.3560519218444824)\n"
     ]
    }
   ],
   "source": [
    "\n",
    "# Solve, returns a solution if any.\n",
    "tic = time.time()\n",
    "assignment = routing.SolveWithParameters(search_parameters)\n",
    "toc = time.time()\n",
    "\n",
    "print(\"solving tsp time \", toc-tic)    \n"
   ]
  },
  {
   "cell_type": "code",
   "execution_count": 41,
   "metadata": {
    "collapsed": false
   },
   "outputs": [],
   "source": [
    "      \n",
    "\n",
    "\n",
    "    \n",
    "#assignment = routing.Solve()"
   ]
  },
  {
   "cell_type": "code",
   "execution_count": 52,
   "metadata": {
    "collapsed": false
   },
   "outputs": [
    {
     "name": "stdout",
     "output_type": "stream",
     "text": [
      "('solving tsp time ', 0.3560519218444824)\n",
      "Total distance of all routes: 117\n",
      "\n",
      "Route for vehicle 0:\n",
      "\n",
      "541 -> 474 -> 504 -> 489 -> 471 -> 402 -> 433 -> 377 -> 267 -> 213 -> 225 -> 165 -> 115 -> 102\n",
      "\n",
      "Distance of route 0: 125.401647503\n"
     ]
    }
   ],
   "source": [
    "# modified to not show dummy depot node\n",
    "#\n",
    "solnodes = []\n",
    "print(\"solving tsp time \", toc-tic)\n",
    "if assignment:\n",
    "    print \"Total distance of all routes: \" + str(assignment.ObjectiveValue()) + \"\\n\"\n",
    "    for vehicle_nbr in range(num_vehicles):\n",
    "        index = routing.Start(vehicle_nbr)\n",
    "        index_next = assignment.Value(routing.NextVar(index))\n",
    "        route = ''\n",
    "        route_dist = 0\n",
    "        route_demand = 0\n",
    "\n",
    "        while not routing.IsEnd(index_next):\n",
    "            node_index = routing.IndexToNode(index)\n",
    "            node_index_next = routing.IndexToNode(index_next)\n",
    "            if node_index != depot:\n",
    "                route += str(node_index) + \" -> \"\n",
    "            # Add the distance to the next node.\n",
    "            route_dist += Distance(node_index, node_index_next)\n",
    "            # Add demand.\n",
    "            #route_demand += demands[node_index_next]\n",
    "            index = index_next\n",
    "            index_next = assignment.Value(routing.NextVar(index))\n",
    "            solnodes.append(node_index)\n",
    "            \n",
    "        node_index = routing.IndexToNode(index)\n",
    "        node_index_next = routing.IndexToNode(index_next)\n",
    "        if node_index_next != depot:\n",
    "            route += str(node_index) + \" -> \" + str(node_index_next)\n",
    "        else:\n",
    "            route += str(node_index)\n",
    "        solnodes.append(node_index)\n",
    "        route_dist += Distance(node_index, node_index_next)\n",
    "        print \"Route for vehicle \" + str(vehicle_nbr) + \":\\n\\n\" + route + \"\\n\"\n",
    "        print \"Distance of route \" + str(vehicle_nbr) + \": \" + str(route_dist)\n",
    "        #print \"Demand met by vehicle \" + str(vehicle_nbr) + \": \" + str(route_demand) + \"\\n\"\n",
    "else:\n",
    "    print 'No solution found.'\n",
    "\n",
    "\n",
    "    "
   ]
  },
  {
   "cell_type": "code",
   "execution_count": 62,
   "metadata": {
    "collapsed": false
   },
   "outputs": [
    {
     "name": "stdout",
     "output_type": "stream",
     "text": [
      "541\n",
      "474\n",
      "504\n",
      "489\n",
      "471\n",
      "402\n",
      "433\n",
      "377\n",
      "267\n",
      "213\n",
      "225\n",
      "165\n",
      "115\n",
      "[82.0, 77.134788189987162, 69.400000000000006, 67.5, 63.0, 62.07692307692308, 64.0, 67.0, 78.245161290322585, 68.5, 66.5, 55.0, 54.399999999999999]\n"
     ]
    }
   ],
   "source": [
    "xsol = []\n",
    "ysol = []\n",
    "for i in solnodes[1:-1]:\n",
    "    print(i)\n",
    "    xsol.append(properties[i].centroid[1])\n",
    "    ysol.append(properties[i].centroid[0])\n",
    "print(xsol)\n",
    "plt.figure(13)\n",
    "plt.plot(xsol,ysol,'k',lw=2)\n",
    "plt.show(block=False)\n",
    "    "
   ]
  },
  {
   "cell_type": "code",
   "execution_count": 43,
   "metadata": {
    "collapsed": false
   },
   "outputs": [
    {
     "name": "stdout",
     "output_type": "stream",
     "text": [
      "117\n",
      "565 -> 541 -> 474 -> 504 -> 489 -> 471 -> 402 -> 433 -> 377 -> 267 -> 213 -> 225 -> 165 -> 115 -> 102 -> 0\n"
     ]
    }
   ],
   "source": [
    "if assignment:\n",
    "    # Solution cost.\n",
    "    print(assignment.ObjectiveValue())\n",
    "    # Inspect solution.\n",
    "    # Only one route here; otherwise iterate from 0 to routing.vehicles() - 1\n",
    "    route_number = 0\n",
    "    node = routing.Start(route_number)\n",
    "    route = ''\n",
    "    while not routing.IsEnd(node):\n",
    "        route += str(node) + \" -> \"\n",
    "        node = assignment.Value(routing.NextVar(node))\n",
    "    route += '0'\n",
    "    print(route)\n",
    "else:\n",
    "    print('No solution found.')"
   ]
  },
  {
   "cell_type": "code",
   "execution_count": null,
   "metadata": {
    "collapsed": true
   },
   "outputs": [],
   "source": []
  }
 ],
 "metadata": {
  "kernelspec": {
   "display_name": "Python 2",
   "language": "python",
   "name": "python2"
  },
  "language_info": {
   "codemirror_mode": {
    "name": "ipython",
    "version": 2
   },
   "file_extension": ".py",
   "mimetype": "text/x-python",
   "name": "python",
   "nbconvert_exporter": "python",
   "pygments_lexer": "ipython2",
   "version": "2.7.14"
  }
 },
 "nbformat": 4,
 "nbformat_minor": 2
}
